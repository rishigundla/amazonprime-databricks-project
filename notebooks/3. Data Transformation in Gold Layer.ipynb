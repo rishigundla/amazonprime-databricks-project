{
 "cells": [
  {
   "cell_type": "code",
   "execution_count": 0,
   "metadata": {
    "application/vnd.databricks.v1+cell": {
     "cellMetadata": {
      "byteLimit": 2048000,
      "rowLimit": 10000
     },
     "inputWidgets": {},
     "nuid": "df015ad1-25f1-4b44-934b-cc31db4668bf",
     "showTitle": false,
     "tableResultSettingsMap": {},
     "title": ""
    }
   },
   "outputs": [],
   "source": [
    "from pyspark.sql.functions import *\n",
    "from pyspark.sql.types import *"
   ]
  },
  {
   "cell_type": "code",
   "execution_count": 0,
   "metadata": {
    "application/vnd.databricks.v1+cell": {
     "cellMetadata": {
      "byteLimit": 2048000,
      "implicitDf": true,
      "rowLimit": 10000
     },
     "inputWidgets": {},
     "nuid": "4ca0c99f-145f-49b3-b810-9e8813a5ee45",
     "showTitle": false,
     "tableResultSettingsMap": {},
     "title": ""
    }
   },
   "outputs": [
    {
     "output_type": "display_data",
     "data": {
      "application/vnd.databricks.empty-table+json": {
       "directive_name": "NoDirective"
      }
     },
     "metadata": {},
     "output_type": "display_data"
    }
   ],
   "source": [
    "%sql\n",
    "USE CATALOG amazonretail;\n",
    "USE SCHEMA gold;"
   ]
  },
  {
   "cell_type": "code",
   "execution_count": 0,
   "metadata": {
    "application/vnd.databricks.v1+cell": {
     "cellMetadata": {
      "byteLimit": 2048000,
      "rowLimit": 10000
     },
     "inputWidgets": {},
     "nuid": "7415d113-9981-42aa-9276-40379383fba7",
     "showTitle": false,
     "tableResultSettingsMap": {
      "0": {
       "dataGridStateBlob": "{\"version\":1,\"tableState\":{\"columnPinning\":{\"left\":[\"#row_number#\"],\"right\":[]},\"columnSizing\":{},\"columnVisibility\":{}},\"settings\":{\"columns\":{}},\"syncTimestamp\":1761925605135}",
       "filterBlob": null,
       "queryPlanFiltersBlob": null,
       "tableResultIndex": 0
      }
     },
     "title": ""
    }
   },
   "outputs": [
    {
     "output_type": "display_data",
     "data": {
      "text/html": [
       "<style scoped>\n",
       "  .table-result-container {\n",
       "    max-height: 300px;\n",
       "    overflow: auto;\n",
       "  }\n",
       "  table, th, td {\n",
       "    border: 1px solid black;\n",
       "    border-collapse: collapse;\n",
       "  }\n",
       "  th, td {\n",
       "    padding: 5px;\n",
       "  }\n",
       "  th {\n",
       "    text-align: left;\n",
       "  }\n",
       "</style><div class='table-result-container'><table class='table-result'><thead style='background-color: white'><tr><th>transaction_id</th><th>quantity</th><th>transaction_date</th><th>product_name</th><th>category</th><th>price</th><th>first_name</th><th>last_name</th><th>email</th><th>phone</th><th>customer_city</th><th>registration_date</th><th>store_name</th><th>store_location</th><th>sales</th></tr></thead><tbody><tr><td>1</td><td>4</td><td>2025-03-31</td><td>Desk Organizer</td><td>Accessories</td><td>399.00</td><td>Rohit</td><td>Mehta</td><td>user127@example.com</td><td>9621098765</td><td>Bangalore</td><td>2023-08-30</td><td>Downtown Mini Store</td><td>Pune</td><td>1596.00</td></tr><tr><td>2</td><td>5</td><td>2024-11-12</td><td>Yoga Mat</td><td>Fitness</td><td>499.00</td><td>Riya</td><td>Singh</td><td>user105@example.com</td><td>9843210987</td><td>Chennai</td><td>2023-06-28</td><td>Downtown Mini Store</td><td>Pune</td><td>2495.00</td></tr><tr><td>3</td><td>3</td><td>2025-05-01</td><td>Bluetooth Speaker</td><td>Electronics</td><td>1299.49</td><td>Rakesh</td><td>Kapoor</td><td>user116@example.com</td><td>9732109876</td><td>Kolkata</td><td>2023-06-15</td><td>High Street Store</td><td>Delhi</td><td>3898.47</td></tr><tr><td>4</td><td>1</td><td>2024-11-02</td><td>Desk Organizer</td><td>Accessories</td><td>399.00</td><td>Alka</td><td>Mishra</td><td>user120@example.com</td><td>9698765432</td><td>Hyderabad</td><td>2023-12-01</td><td>City Mall Store</td><td>Mumbai</td><td>399.00</td></tr><tr><td>5</td><td>1</td><td>2025-03-17</td><td>Notebook Set</td><td>Stationery</td><td>149.00</td><td>Riya</td><td>Singh</td><td>user105@example.com</td><td>9843210987</td><td>Chennai</td><td>2023-06-28</td><td>High Street Store</td><td>Delhi</td><td>149.00</td></tr><tr><td>6</td><td>5</td><td>2025-01-04</td><td>Smartwatch</td><td>Electronics</td><td>4999.00</td><td>Deepak</td><td>Nair</td><td>user110@example.com</td><td>9798765432</td><td>Mumbai</td><td>2023-10-14</td><td>Tech World Outlet</td><td>Bangalore</td><td>24995.00</td></tr><tr><td>7</td><td>5</td><td>2025-01-01</td><td>Smartwatch</td><td>Electronics</td><td>4999.00</td><td>Deepak</td><td>Nair</td><td>user110@example.com</td><td>9798765432</td><td>Mumbai</td><td>2023-10-14</td><td>High Street Store</td><td>Delhi</td><td>24995.00</td></tr><tr><td>8</td><td>2</td><td>2025-06-08</td><td>Smartwatch</td><td>Electronics</td><td>4999.00</td><td>Bhavna</td><td>Nair</td><td>user126@example.com</td><td>9632109876</td><td>Mumbai</td><td>2023-07-17</td><td>Mega Plaza</td><td>Chennai</td><td>9998.00</td></tr><tr><td>9</td><td>2</td><td>2024-10-08</td><td>Wireless Mouse</td><td>Electronics</td><td>799.99</td><td>Arjun</td><td>Yadav</td><td>user123@example.com</td><td>9665432109</td><td>Ahmedabad</td><td>2024-02-25</td><td>Tech World Outlet</td><td>Bangalore</td><td>1599.98</td></tr><tr><td>10</td><td>5</td><td>2024-08-27</td><td>Bluetooth Speaker</td><td>Electronics</td><td>1299.49</td><td>Kavita</td><td>Sharma</td><td>user124@example.com</td><td>9654321098</td><td>Kolkata</td><td>2023-11-15</td><td>High Street Store</td><td>Delhi</td><td>6497.45</td></tr><tr><td>11</td><td>2</td><td>2024-08-11</td><td>Wireless Mouse</td><td>Electronics</td><td>799.99</td><td>Nina</td><td>Joshi</td><td>user102@example.com</td><td>9876543210</td><td>Mumbai</td><td>2024-01-21</td><td>Tech World Outlet</td><td>Bangalore</td><td>1599.98</td></tr><tr><td>12</td><td>4</td><td>2025-05-26</td><td>Notebook Set</td><td>Stationery</td><td>149.00</td><td>Rahul</td><td>Verma</td><td>user108@example.com</td><td>9810987654</td><td>Kolkata</td><td>2023-08-19</td><td>City Mall Store</td><td>Mumbai</td><td>596.00</td></tr><tr><td>13</td><td>4</td><td>2025-05-04</td><td>Yoga Mat</td><td>Fitness</td><td>499.00</td><td>Karan</td><td>Patel</td><td>user104@example.com</td><td>9854321098</td><td>Hyderabad</td><td>2024-02-05</td><td>Tech World Outlet</td><td>Bangalore</td><td>1996.00</td></tr><tr><td>14</td><td>5</td><td>2024-07-17</td><td>Wireless Mouse</td><td>Electronics</td><td>799.99</td><td>Alka</td><td>Mishra</td><td>user120@example.com</td><td>9698765432</td><td>Hyderabad</td><td>2023-12-01</td><td>Downtown Mini Store</td><td>Pune</td><td>3999.95</td></tr><tr><td>15</td><td>5</td><td>2025-05-19</td><td>Water Bottle</td><td>Fitness</td><td>299.00</td><td>Sanjay</td><td>Patel</td><td>user121@example.com</td><td>9687654321</td><td>Chennai</td><td>2024-01-10</td><td>Mega Plaza</td><td>Chennai</td><td>1495.00</td></tr><tr><td>16</td><td>4</td><td>2024-11-29</td><td>Water Bottle</td><td>Fitness</td><td>299.00</td><td>Vikram</td><td>Mehta</td><td>user118@example.com</td><td>9710987654</td><td>Mumbai</td><td>2023-04-22</td><td>High Street Store</td><td>Delhi</td><td>1196.00</td></tr><tr><td>17</td><td>5</td><td>2024-07-10</td><td>Desk Organizer</td><td>Accessories</td><td>399.00</td><td>Pooja</td><td>Mehta</td><td>user109@example.com</td><td>9809876543</td><td>Delhi</td><td>2024-04-01</td><td>Mega Plaza</td><td>Chennai</td><td>1995.00</td></tr><tr><td>18</td><td>3</td><td>2024-09-05</td><td>Wireless Mouse</td><td>Electronics</td><td>799.99</td><td>Sonal</td><td>Sharma</td><td>user103@example.com</td><td>9865432109</td><td>Bangalore</td><td>2023-07-10</td><td>Downtown Mini Store</td><td>Pune</td><td>2399.97</td></tr><tr><td>19</td><td>4</td><td>2024-07-14</td><td>Desk Organizer</td><td>Accessories</td><td>399.00</td><td>Rakesh</td><td>Kapoor</td><td>user116@example.com</td><td>9732109876</td><td>Kolkata</td><td>2023-06-15</td><td>Downtown Mini Store</td><td>Pune</td><td>1596.00</td></tr><tr><td>20</td><td>2</td><td>2024-07-30</td><td>Notebook Set</td><td>Stationery</td><td>149.00</td><td>Tanvi</td><td>Kapoor</td><td>user130@example.com</td><td>9598765432</td><td>Pune</td><td>2023-12-22</td><td>City Mall Store</td><td>Mumbai</td><td>298.00</td></tr><tr><td>21</td><td>5</td><td>2024-10-02</td><td>Wireless Mouse</td><td>Electronics</td><td>799.99</td><td>Riya</td><td>Singh</td><td>user105@example.com</td><td>9843210987</td><td>Chennai</td><td>2023-06-28</td><td>Tech World Outlet</td><td>Bangalore</td><td>3999.95</td></tr><tr><td>22</td><td>4</td><td>2024-11-16</td><td>Dumbbell Set</td><td>Fitness</td><td>1999.00</td><td>Priya</td><td>Kapoor</td><td>user107@example.com</td><td>9821098765</td><td>Ahmedabad</td><td>2023-05-12</td><td>Tech World Outlet</td><td>Bangalore</td><td>7996.00</td></tr><tr><td>23</td><td>2</td><td>2025-04-30</td><td>Dumbbell Set</td><td>Fitness</td><td>1999.00</td><td>Tina</td><td>Kapoor</td><td>user122@example.com</td><td>9676543210</td><td>Pune</td><td>2023-09-20</td><td>Downtown Mini Store</td><td>Pune</td><td>3998.00</td></tr><tr><td>24</td><td>1</td><td>2024-07-14</td><td>Wireless Mouse</td><td>Electronics</td><td>799.99</td><td>Tarun</td><td>Verma</td><td>user125@example.com</td><td>9643210987</td><td>Delhi</td><td>2024-04-05</td><td>Mega Plaza</td><td>Chennai</td><td>799.99</td></tr><tr><td>25</td><td>5</td><td>2024-12-13</td><td>Desk Organizer</td><td>Accessories</td><td>399.00</td><td>Rakesh</td><td>Kapoor</td><td>user116@example.com</td><td>9732109876</td><td>Kolkata</td><td>2023-06-15</td><td>Downtown Mini Store</td><td>Pune</td><td>1995.00</td></tr><tr><td>26</td><td>2</td><td>2024-09-21</td><td>Water Bottle</td><td>Fitness</td><td>299.00</td><td>Bhavna</td><td>Nair</td><td>user126@example.com</td><td>9632109876</td><td>Mumbai</td><td>2023-07-17</td><td>High Street Store</td><td>Delhi</td><td>598.00</td></tr><tr><td>27</td><td>1</td><td>2024-10-10</td><td>Desk Organizer</td><td>Accessories</td><td>399.00</td><td>Rohit</td><td>Mehta</td><td>user127@example.com</td><td>9621098765</td><td>Bangalore</td><td>2023-08-30</td><td>City Mall Store</td><td>Mumbai</td><td>399.00</td></tr><tr><td>28</td><td>3</td><td>2024-11-15</td><td>Smartwatch</td><td>Electronics</td><td>4999.00</td><td>Ravi</td><td>Yadav</td><td>user101@example.com</td><td>9887654321</td><td>Delhi</td><td>2023-09-14</td><td>Mega Plaza</td><td>Chennai</td><td>14997.00</td></tr><tr><td>29</td><td>2</td><td>2025-06-03</td><td>Dumbbell Set</td><td>Fitness</td><td>1999.00</td><td>Kunal</td><td>Nair</td><td>user119@example.com</td><td>9709876543</td><td>Bangalore</td><td>2023-08-10</td><td>Downtown Mini Store</td><td>Pune</td><td>3998.00</td></tr><tr><td>30</td><td>5</td><td>2025-03-16</td><td>Desk Organizer</td><td>Accessories</td><td>399.00</td><td>Rakesh</td><td>Kapoor</td><td>user116@example.com</td><td>9732109876</td><td>Kolkata</td><td>2023-06-15</td><td>Downtown Mini Store</td><td>Pune</td><td>1995.00</td></tr></tbody></table></div>"
      ]
     },
     "metadata": {
      "application/vnd.databricks.v1+output": {
       "addedWidgets": {},
       "aggData": [],
       "aggError": "",
       "aggOverflow": false,
       "aggSchema": [],
       "aggSeriesLimitReached": false,
       "aggType": "",
       "arguments": {},
       "columnCustomDisplayInfos": {},
       "data": [
        [
         1,
         4,
         "2025-03-31",
         "Desk Organizer",
         "Accessories",
         "399.00",
         "Rohit",
         "Mehta",
         "user127@example.com",
         "9621098765",
         "Bangalore",
         "2023-08-30",
         "Downtown Mini Store",
         "Pune",
         "1596.00"
        ],
        [
         2,
         5,
         "2024-11-12",
         "Yoga Mat",
         "Fitness",
         "499.00",
         "Riya",
         "Singh",
         "user105@example.com",
         "9843210987",
         "Chennai",
         "2023-06-28",
         "Downtown Mini Store",
         "Pune",
         "2495.00"
        ],
        [
         3,
         3,
         "2025-05-01",
         "Bluetooth Speaker",
         "Electronics",
         "1299.49",
         "Rakesh",
         "Kapoor",
         "user116@example.com",
         "9732109876",
         "Kolkata",
         "2023-06-15",
         "High Street Store",
         "Delhi",
         "3898.47"
        ],
        [
         4,
         1,
         "2024-11-02",
         "Desk Organizer",
         "Accessories",
         "399.00",
         "Alka",
         "Mishra",
         "user120@example.com",
         "9698765432",
         "Hyderabad",
         "2023-12-01",
         "City Mall Store",
         "Mumbai",
         "399.00"
        ],
        [
         5,
         1,
         "2025-03-17",
         "Notebook Set",
         "Stationery",
         "149.00",
         "Riya",
         "Singh",
         "user105@example.com",
         "9843210987",
         "Chennai",
         "2023-06-28",
         "High Street Store",
         "Delhi",
         "149.00"
        ],
        [
         6,
         5,
         "2025-01-04",
         "Smartwatch",
         "Electronics",
         "4999.00",
         "Deepak",
         "Nair",
         "user110@example.com",
         "9798765432",
         "Mumbai",
         "2023-10-14",
         "Tech World Outlet",
         "Bangalore",
         "24995.00"
        ],
        [
         7,
         5,
         "2025-01-01",
         "Smartwatch",
         "Electronics",
         "4999.00",
         "Deepak",
         "Nair",
         "user110@example.com",
         "9798765432",
         "Mumbai",
         "2023-10-14",
         "High Street Store",
         "Delhi",
         "24995.00"
        ],
        [
         8,
         2,
         "2025-06-08",
         "Smartwatch",
         "Electronics",
         "4999.00",
         "Bhavna",
         "Nair",
         "user126@example.com",
         "9632109876",
         "Mumbai",
         "2023-07-17",
         "Mega Plaza",
         "Chennai",
         "9998.00"
        ],
        [
         9,
         2,
         "2024-10-08",
         "Wireless Mouse",
         "Electronics",
         "799.99",
         "Arjun",
         "Yadav",
         "user123@example.com",
         "9665432109",
         "Ahmedabad",
         "2024-02-25",
         "Tech World Outlet",
         "Bangalore",
         "1599.98"
        ],
        [
         10,
         5,
         "2024-08-27",
         "Bluetooth Speaker",
         "Electronics",
         "1299.49",
         "Kavita",
         "Sharma",
         "user124@example.com",
         "9654321098",
         "Kolkata",
         "2023-11-15",
         "High Street Store",
         "Delhi",
         "6497.45"
        ],
        [
         11,
         2,
         "2024-08-11",
         "Wireless Mouse",
         "Electronics",
         "799.99",
         "Nina",
         "Joshi",
         "user102@example.com",
         "9876543210",
         "Mumbai",
         "2024-01-21",
         "Tech World Outlet",
         "Bangalore",
         "1599.98"
        ],
        [
         12,
         4,
         "2025-05-26",
         "Notebook Set",
         "Stationery",
         "149.00",
         "Rahul",
         "Verma",
         "user108@example.com",
         "9810987654",
         "Kolkata",
         "2023-08-19",
         "City Mall Store",
         "Mumbai",
         "596.00"
        ],
        [
         13,
         4,
         "2025-05-04",
         "Yoga Mat",
         "Fitness",
         "499.00",
         "Karan",
         "Patel",
         "user104@example.com",
         "9854321098",
         "Hyderabad",
         "2024-02-05",
         "Tech World Outlet",
         "Bangalore",
         "1996.00"
        ],
        [
         14,
         5,
         "2024-07-17",
         "Wireless Mouse",
         "Electronics",
         "799.99",
         "Alka",
         "Mishra",
         "user120@example.com",
         "9698765432",
         "Hyderabad",
         "2023-12-01",
         "Downtown Mini Store",
         "Pune",
         "3999.95"
        ],
        [
         15,
         5,
         "2025-05-19",
         "Water Bottle",
         "Fitness",
         "299.00",
         "Sanjay",
         "Patel",
         "user121@example.com",
         "9687654321",
         "Chennai",
         "2024-01-10",
         "Mega Plaza",
         "Chennai",
         "1495.00"
        ],
        [
         16,
         4,
         "2024-11-29",
         "Water Bottle",
         "Fitness",
         "299.00",
         "Vikram",
         "Mehta",
         "user118@example.com",
         "9710987654",
         "Mumbai",
         "2023-04-22",
         "High Street Store",
         "Delhi",
         "1196.00"
        ],
        [
         17,
         5,
         "2024-07-10",
         "Desk Organizer",
         "Accessories",
         "399.00",
         "Pooja",
         "Mehta",
         "user109@example.com",
         "9809876543",
         "Delhi",
         "2024-04-01",
         "Mega Plaza",
         "Chennai",
         "1995.00"
        ],
        [
         18,
         3,
         "2024-09-05",
         "Wireless Mouse",
         "Electronics",
         "799.99",
         "Sonal",
         "Sharma",
         "user103@example.com",
         "9865432109",
         "Bangalore",
         "2023-07-10",
         "Downtown Mini Store",
         "Pune",
         "2399.97"
        ],
        [
         19,
         4,
         "2024-07-14",
         "Desk Organizer",
         "Accessories",
         "399.00",
         "Rakesh",
         "Kapoor",
         "user116@example.com",
         "9732109876",
         "Kolkata",
         "2023-06-15",
         "Downtown Mini Store",
         "Pune",
         "1596.00"
        ],
        [
         20,
         2,
         "2024-07-30",
         "Notebook Set",
         "Stationery",
         "149.00",
         "Tanvi",
         "Kapoor",
         "user130@example.com",
         "9598765432",
         "Pune",
         "2023-12-22",
         "City Mall Store",
         "Mumbai",
         "298.00"
        ],
        [
         21,
         5,
         "2024-10-02",
         "Wireless Mouse",
         "Electronics",
         "799.99",
         "Riya",
         "Singh",
         "user105@example.com",
         "9843210987",
         "Chennai",
         "2023-06-28",
         "Tech World Outlet",
         "Bangalore",
         "3999.95"
        ],
        [
         22,
         4,
         "2024-11-16",
         "Dumbbell Set",
         "Fitness",
         "1999.00",
         "Priya",
         "Kapoor",
         "user107@example.com",
         "9821098765",
         "Ahmedabad",
         "2023-05-12",
         "Tech World Outlet",
         "Bangalore",
         "7996.00"
        ],
        [
         23,
         2,
         "2025-04-30",
         "Dumbbell Set",
         "Fitness",
         "1999.00",
         "Tina",
         "Kapoor",
         "user122@example.com",
         "9676543210",
         "Pune",
         "2023-09-20",
         "Downtown Mini Store",
         "Pune",
         "3998.00"
        ],
        [
         24,
         1,
         "2024-07-14",
         "Wireless Mouse",
         "Electronics",
         "799.99",
         "Tarun",
         "Verma",
         "user125@example.com",
         "9643210987",
         "Delhi",
         "2024-04-05",
         "Mega Plaza",
         "Chennai",
         "799.99"
        ],
        [
         25,
         5,
         "2024-12-13",
         "Desk Organizer",
         "Accessories",
         "399.00",
         "Rakesh",
         "Kapoor",
         "user116@example.com",
         "9732109876",
         "Kolkata",
         "2023-06-15",
         "Downtown Mini Store",
         "Pune",
         "1995.00"
        ],
        [
         26,
         2,
         "2024-09-21",
         "Water Bottle",
         "Fitness",
         "299.00",
         "Bhavna",
         "Nair",
         "user126@example.com",
         "9632109876",
         "Mumbai",
         "2023-07-17",
         "High Street Store",
         "Delhi",
         "598.00"
        ],
        [
         27,
         1,
         "2024-10-10",
         "Desk Organizer",
         "Accessories",
         "399.00",
         "Rohit",
         "Mehta",
         "user127@example.com",
         "9621098765",
         "Bangalore",
         "2023-08-30",
         "City Mall Store",
         "Mumbai",
         "399.00"
        ],
        [
         28,
         3,
         "2024-11-15",
         "Smartwatch",
         "Electronics",
         "4999.00",
         "Ravi",
         "Yadav",
         "user101@example.com",
         "9887654321",
         "Delhi",
         "2023-09-14",
         "Mega Plaza",
         "Chennai",
         "14997.00"
        ],
        [
         29,
         2,
         "2025-06-03",
         "Dumbbell Set",
         "Fitness",
         "1999.00",
         "Kunal",
         "Nair",
         "user119@example.com",
         "9709876543",
         "Bangalore",
         "2023-08-10",
         "Downtown Mini Store",
         "Pune",
         "3998.00"
        ],
        [
         30,
         5,
         "2025-03-16",
         "Desk Organizer",
         "Accessories",
         "399.00",
         "Rakesh",
         "Kapoor",
         "user116@example.com",
         "9732109876",
         "Kolkata",
         "2023-06-15",
         "Downtown Mini Store",
         "Pune",
         "1995.00"
        ]
       ],
       "datasetInfos": [],
       "dbfsResultPath": null,
       "isJsonSchema": true,
       "metadata": {},
       "overflow": false,
       "plotOptions": {
        "customPlotOptions": {},
        "displayType": "table",
        "pivotAggregation": null,
        "pivotColumns": null,
        "xColumns": null,
        "yColumns": null
       },
       "removedWidgets": [],
       "schema": [
        {
         "metadata": "{}",
         "name": "transaction_id",
         "type": "\"integer\""
        },
        {
         "metadata": "{}",
         "name": "quantity",
         "type": "\"integer\""
        },
        {
         "metadata": "{}",
         "name": "transaction_date",
         "type": "\"date\""
        },
        {
         "metadata": "{}",
         "name": "product_name",
         "type": "\"string\""
        },
        {
         "metadata": "{}",
         "name": "category",
         "type": "\"string\""
        },
        {
         "metadata": "{}",
         "name": "price",
         "type": "\"decimal(10,2)\""
        },
        {
         "metadata": "{}",
         "name": "first_name",
         "type": "\"string\""
        },
        {
         "metadata": "{}",
         "name": "last_name",
         "type": "\"string\""
        },
        {
         "metadata": "{}",
         "name": "email",
         "type": "\"string\""
        },
        {
         "metadata": "{}",
         "name": "phone",
         "type": "\"string\""
        },
        {
         "metadata": "{}",
         "name": "customer_city",
         "type": "\"string\""
        },
        {
         "metadata": "{}",
         "name": "registration_date",
         "type": "\"string\""
        },
        {
         "metadata": "{}",
         "name": "store_name",
         "type": "\"string\""
        },
        {
         "metadata": "{}",
         "name": "store_location",
         "type": "\"string\""
        },
        {
         "metadata": "{}",
         "name": "sales",
         "type": "\"decimal(21,2)\""
        }
       ],
       "type": "table"
      }
     },
     "output_type": "display_data"
    }
   ],
   "source": [
    "df_sales = spark.table(\"amazonretail.silver.silver_sales\")\n",
    "display(df_sales)"
   ]
  },
  {
   "cell_type": "code",
   "execution_count": 0,
   "metadata": {
    "application/vnd.databricks.v1+cell": {
     "cellMetadata": {
      "byteLimit": 2048000,
      "rowLimit": 10000
     },
     "inputWidgets": {},
     "nuid": "499ba3a2-4461-455c-8d47-b74aad931df8",
     "showTitle": false,
     "tableResultSettingsMap": {
      "0": {
       "dataGridStateBlob": "{\"version\":1,\"tableState\":{\"columnPinning\":{\"left\":[\"#row_number#\"],\"right\":[]},\"columnSizing\":{},\"columnVisibility\":{}},\"settings\":{\"columns\":{}},\"syncTimestamp\":1761925821689}",
       "filterBlob": null,
       "queryPlanFiltersBlob": null,
       "tableResultIndex": 0
      }
     },
     "title": ""
    }
   },
   "outputs": [
    {
     "output_type": "display_data",
     "data": {
      "text/html": [
       "<style scoped>\n",
       "  .table-result-container {\n",
       "    max-height: 300px;\n",
       "    overflow: auto;\n",
       "  }\n",
       "  table, th, td {\n",
       "    border: 1px solid black;\n",
       "    border-collapse: collapse;\n",
       "  }\n",
       "  th, td {\n",
       "    padding: 5px;\n",
       "  }\n",
       "  th {\n",
       "    text-align: left;\n",
       "  }\n",
       "</style><div class='table-result-container'><table class='table-result'><thead style='background-color: white'><tr><th>category</th><th>product_name</th><th>total_sales</th></tr></thead><tbody><tr><td>Accessories</td><td>Desk Organizer</td><td>9975.00</td></tr><tr><td>Fitness</td><td>Yoga Mat</td><td>4491.00</td></tr><tr><td>Electronics</td><td>Bluetooth Speaker</td><td>10395.92</td></tr><tr><td>Stationery</td><td>Notebook Set</td><td>1043.00</td></tr><tr><td>Electronics</td><td>Smartwatch</td><td>74985.00</td></tr><tr><td>Electronics</td><td>Wireless Mouse</td><td>14399.82</td></tr><tr><td>Fitness</td><td>Water Bottle</td><td>3289.00</td></tr><tr><td>Fitness</td><td>Dumbbell Set</td><td>15992.00</td></tr></tbody></table></div>"
      ]
     },
     "metadata": {
      "application/vnd.databricks.v1+output": {
       "addedWidgets": {},
       "aggData": [],
       "aggError": "",
       "aggOverflow": false,
       "aggSchema": [],
       "aggSeriesLimitReached": false,
       "aggType": "",
       "arguments": {},
       "columnCustomDisplayInfos": {},
       "data": [
        [
         "Accessories",
         "Desk Organizer",
         "9975.00"
        ],
        [
         "Fitness",
         "Yoga Mat",
         "4491.00"
        ],
        [
         "Electronics",
         "Bluetooth Speaker",
         "10395.92"
        ],
        [
         "Stationery",
         "Notebook Set",
         "1043.00"
        ],
        [
         "Electronics",
         "Smartwatch",
         "74985.00"
        ],
        [
         "Electronics",
         "Wireless Mouse",
         "14399.82"
        ],
        [
         "Fitness",
         "Water Bottle",
         "3289.00"
        ],
        [
         "Fitness",
         "Dumbbell Set",
         "15992.00"
        ]
       ],
       "datasetInfos": [],
       "dbfsResultPath": null,
       "isJsonSchema": true,
       "metadata": {},
       "overflow": false,
       "plotOptions": {
        "customPlotOptions": {},
        "displayType": "table",
        "pivotAggregation": null,
        "pivotColumns": null,
        "xColumns": null,
        "yColumns": null
       },
       "removedWidgets": [],
       "schema": [
        {
         "metadata": "{}",
         "name": "category",
         "type": "\"string\""
        },
        {
         "metadata": "{}",
         "name": "product_name",
         "type": "\"string\""
        },
        {
         "metadata": "{}",
         "name": "total_sales",
         "type": "\"decimal(31,2)\""
        }
       ],
       "type": "table"
      }
     },
     "output_type": "display_data"
    }
   ],
   "source": [
    "df_product_agg = df_sales.groupBy('category','product_name').agg(sum('sales').alias(\"total_sales\"))\n",
    "display(df_product_agg)"
   ]
  },
  {
   "cell_type": "code",
   "execution_count": 0,
   "metadata": {
    "application/vnd.databricks.v1+cell": {
     "cellMetadata": {
      "byteLimit": 2048000,
      "rowLimit": 10000
     },
     "inputWidgets": {},
     "nuid": "8b1a2877-2866-4933-ac8e-d076d156b179",
     "showTitle": false,
     "tableResultSettingsMap": {
      "0": {
       "dataGridStateBlob": "{\"version\":1,\"tableState\":{\"columnPinning\":{\"left\":[\"#row_number#\"],\"right\":[]},\"columnSizing\":{},\"columnVisibility\":{}},\"settings\":{\"columns\":{}},\"syncTimestamp\":1761925812299}",
       "filterBlob": null,
       "queryPlanFiltersBlob": null,
       "tableResultIndex": 0
      }
     },
     "title": ""
    }
   },
   "outputs": [
    {
     "output_type": "display_data",
     "data": {
      "text/html": [
       "<style scoped>\n",
       "  .table-result-container {\n",
       "    max-height: 300px;\n",
       "    overflow: auto;\n",
       "  }\n",
       "  table, th, td {\n",
       "    border: 1px solid black;\n",
       "    border-collapse: collapse;\n",
       "  }\n",
       "  th, td {\n",
       "    padding: 5px;\n",
       "  }\n",
       "  th {\n",
       "    text-align: left;\n",
       "  }\n",
       "</style><div class='table-result-container'><table class='table-result'><thead style='background-color: white'><tr><th>store_location</th><th>store_name</th><th>total_sales</th></tr></thead><tbody><tr><td>Pune</td><td>Downtown Mini Store</td><td>24072.92</td></tr><tr><td>Delhi</td><td>High Street Store</td><td>37333.92</td></tr><tr><td>Mumbai</td><td>City Mall Store</td><td>1692.00</td></tr><tr><td>Bangalore</td><td>Tech World Outlet</td><td>42186.91</td></tr><tr><td>Chennai</td><td>Mega Plaza</td><td>29284.99</td></tr></tbody></table></div>"
      ]
     },
     "metadata": {
      "application/vnd.databricks.v1+output": {
       "addedWidgets": {},
       "aggData": [],
       "aggError": "",
       "aggOverflow": false,
       "aggSchema": [],
       "aggSeriesLimitReached": false,
       "aggType": "",
       "arguments": {},
       "columnCustomDisplayInfos": {},
       "data": [
        [
         "Pune",
         "Downtown Mini Store",
         "24072.92"
        ],
        [
         "Delhi",
         "High Street Store",
         "37333.92"
        ],
        [
         "Mumbai",
         "City Mall Store",
         "1692.00"
        ],
        [
         "Bangalore",
         "Tech World Outlet",
         "42186.91"
        ],
        [
         "Chennai",
         "Mega Plaza",
         "29284.99"
        ]
       ],
       "datasetInfos": [],
       "dbfsResultPath": null,
       "isJsonSchema": true,
       "metadata": {},
       "overflow": false,
       "plotOptions": {
        "customPlotOptions": {},
        "displayType": "table",
        "pivotAggregation": null,
        "pivotColumns": null,
        "xColumns": null,
        "yColumns": null
       },
       "removedWidgets": [],
       "schema": [
        {
         "metadata": "{}",
         "name": "store_location",
         "type": "\"string\""
        },
        {
         "metadata": "{}",
         "name": "store_name",
         "type": "\"string\""
        },
        {
         "metadata": "{}",
         "name": "total_sales",
         "type": "\"decimal(31,2)\""
        }
       ],
       "type": "table"
      }
     },
     "output_type": "display_data"
    }
   ],
   "source": [
    "df_store_agg = df_sales.groupBy('store_location','store_name').agg(sum('sales').alias(\"total_sales\"))\n",
    "display(df_store_agg)"
   ]
  },
  {
   "cell_type": "code",
   "execution_count": 0,
   "metadata": {
    "application/vnd.databricks.v1+cell": {
     "cellMetadata": {
      "byteLimit": 2048000,
      "rowLimit": 10000
     },
     "inputWidgets": {},
     "nuid": "0b46a95b-ce3e-4d44-ac81-7c88139b7582",
     "showTitle": false,
     "tableResultSettingsMap": {},
     "title": ""
    }
   },
   "outputs": [
    {
     "output_type": "display_data",
     "data": {
      "text/html": [
       "<style scoped>\n",
       "  .table-result-container {\n",
       "    max-height: 300px;\n",
       "    overflow: auto;\n",
       "  }\n",
       "  table, th, td {\n",
       "    border: 1px solid black;\n",
       "    border-collapse: collapse;\n",
       "  }\n",
       "  th, td {\n",
       "    padding: 5px;\n",
       "  }\n",
       "  th {\n",
       "    text-align: left;\n",
       "  }\n",
       "</style><div class='table-result-container'><table class='table-result'><thead style='background-color: white'><tr><th>customer_name</th><th>total_sales</th></tr></thead><tbody><tr><td>Rohit Mehta</td><td>1995.00</td></tr><tr><td>Riya Singh</td><td>6643.95</td></tr><tr><td>Rakesh Kapoor</td><td>9484.47</td></tr><tr><td>Alka Mishra</td><td>4398.95</td></tr><tr><td>Deepak Nair</td><td>49990.00</td></tr><tr><td>Bhavna Nair</td><td>10596.00</td></tr><tr><td>Arjun Yadav</td><td>1599.98</td></tr><tr><td>Kavita Sharma</td><td>6497.45</td></tr><tr><td>Nina Joshi</td><td>1599.98</td></tr><tr><td>Rahul Verma</td><td>596.00</td></tr><tr><td>Karan Patel</td><td>1996.00</td></tr><tr><td>Sanjay Patel</td><td>1495.00</td></tr><tr><td>Vikram Mehta</td><td>1196.00</td></tr><tr><td>Pooja Mehta</td><td>1995.00</td></tr><tr><td>Sonal Sharma</td><td>2399.97</td></tr><tr><td>Tanvi Kapoor</td><td>298.00</td></tr><tr><td>Priya Kapoor</td><td>7996.00</td></tr><tr><td>Tina Kapoor</td><td>3998.00</td></tr><tr><td>Tarun Verma</td><td>799.99</td></tr><tr><td>Ravi Yadav</td><td>14997.00</td></tr><tr><td>Kunal Nair</td><td>3998.00</td></tr></tbody></table></div>"
      ]
     },
     "metadata": {
      "application/vnd.databricks.v1+output": {
       "addedWidgets": {},
       "aggData": [],
       "aggError": "",
       "aggOverflow": false,
       "aggSchema": [],
       "aggSeriesLimitReached": false,
       "aggType": "",
       "arguments": {},
       "columnCustomDisplayInfos": {},
       "data": [
        [
         "Rohit Mehta",
         "1995.00"
        ],
        [
         "Riya Singh",
         "6643.95"
        ],
        [
         "Rakesh Kapoor",
         "9484.47"
        ],
        [
         "Alka Mishra",
         "4398.95"
        ],
        [
         "Deepak Nair",
         "49990.00"
        ],
        [
         "Bhavna Nair",
         "10596.00"
        ],
        [
         "Arjun Yadav",
         "1599.98"
        ],
        [
         "Kavita Sharma",
         "6497.45"
        ],
        [
         "Nina Joshi",
         "1599.98"
        ],
        [
         "Rahul Verma",
         "596.00"
        ],
        [
         "Karan Patel",
         "1996.00"
        ],
        [
         "Sanjay Patel",
         "1495.00"
        ],
        [
         "Vikram Mehta",
         "1196.00"
        ],
        [
         "Pooja Mehta",
         "1995.00"
        ],
        [
         "Sonal Sharma",
         "2399.97"
        ],
        [
         "Tanvi Kapoor",
         "298.00"
        ],
        [
         "Priya Kapoor",
         "7996.00"
        ],
        [
         "Tina Kapoor",
         "3998.00"
        ],
        [
         "Tarun Verma",
         "799.99"
        ],
        [
         "Ravi Yadav",
         "14997.00"
        ],
        [
         "Kunal Nair",
         "3998.00"
        ]
       ],
       "datasetInfos": [],
       "dbfsResultPath": null,
       "isJsonSchema": true,
       "metadata": {},
       "overflow": false,
       "plotOptions": {
        "customPlotOptions": {},
        "displayType": "table",
        "pivotAggregation": null,
        "pivotColumns": null,
        "xColumns": null,
        "yColumns": null
       },
       "removedWidgets": [],
       "schema": [
        {
         "metadata": "{}",
         "name": "customer_name",
         "type": "\"string\""
        },
        {
         "metadata": "{}",
         "name": "total_sales",
         "type": "\"decimal(31,2)\""
        }
       ],
       "type": "table"
      }
     },
     "output_type": "display_data"
    }
   ],
   "source": [
    "df_customer_agg = df_sales.groupBy(concat('first_name',lit(' '),'last_name').alias(\"customer_name\"))\\\n",
    "                          .agg(sum('sales').alias(\"total_sales\"))\n",
    "display(df_customer_agg)"
   ]
  },
  {
   "cell_type": "code",
   "execution_count": 0,
   "metadata": {
    "application/vnd.databricks.v1+cell": {
     "cellMetadata": {
      "byteLimit": 2048000,
      "rowLimit": 10000
     },
     "inputWidgets": {},
     "nuid": "75caa139-5300-4519-ab41-5290db8b03f4",
     "showTitle": false,
     "tableResultSettingsMap": {},
     "title": ""
    }
   },
   "outputs": [
    {
     "output_type": "display_data",
     "data": {
      "text/html": [
       "<style scoped>\n",
       "  .table-result-container {\n",
       "    max-height: 300px;\n",
       "    overflow: auto;\n",
       "  }\n",
       "  table, th, td {\n",
       "    border: 1px solid black;\n",
       "    border-collapse: collapse;\n",
       "  }\n",
       "  th, td {\n",
       "    padding: 5px;\n",
       "  }\n",
       "  th {\n",
       "    text-align: left;\n",
       "  }\n",
       "</style><div class='table-result-container'><table class='table-result'><thead style='background-color: white'><tr><th>customer_city</th><th>total_sales</th></tr></thead><tbody><tr><td>Bangalore</td><td>8392.97</td></tr><tr><td>Chennai</td><td>8138.95</td></tr><tr><td>Kolkata</td><td>16577.92</td></tr><tr><td>Hyderabad</td><td>6394.95</td></tr><tr><td>Mumbai</td><td>63381.98</td></tr><tr><td>Ahmedabad</td><td>9595.98</td></tr><tr><td>Delhi</td><td>17791.99</td></tr><tr><td>Pune</td><td>4296.00</td></tr></tbody></table></div>"
      ]
     },
     "metadata": {
      "application/vnd.databricks.v1+output": {
       "addedWidgets": {},
       "aggData": [],
       "aggError": "",
       "aggOverflow": false,
       "aggSchema": [],
       "aggSeriesLimitReached": false,
       "aggType": "",
       "arguments": {},
       "columnCustomDisplayInfos": {},
       "data": [
        [
         "Bangalore",
         "8392.97"
        ],
        [
         "Chennai",
         "8138.95"
        ],
        [
         "Kolkata",
         "16577.92"
        ],
        [
         "Hyderabad",
         "6394.95"
        ],
        [
         "Mumbai",
         "63381.98"
        ],
        [
         "Ahmedabad",
         "9595.98"
        ],
        [
         "Delhi",
         "17791.99"
        ],
        [
         "Pune",
         "4296.00"
        ]
       ],
       "datasetInfos": [],
       "dbfsResultPath": null,
       "isJsonSchema": true,
       "metadata": {},
       "overflow": false,
       "plotOptions": {
        "customPlotOptions": {},
        "displayType": "table",
        "pivotAggregation": null,
        "pivotColumns": null,
        "xColumns": null,
        "yColumns": null
       },
       "removedWidgets": [],
       "schema": [
        {
         "metadata": "{}",
         "name": "customer_city",
         "type": "\"string\""
        },
        {
         "metadata": "{}",
         "name": "total_sales",
         "type": "\"decimal(31,2)\""
        }
       ],
       "type": "table"
      }
     },
     "output_type": "display_data"
    }
   ],
   "source": [
    "df_customer_city_agg = df_sales.groupBy(\"customer_city\")\\\n",
    "                          .agg(sum('sales').alias(\"total_sales\"))\n",
    "display(df_customer_city_agg)"
   ]
  },
  {
   "cell_type": "code",
   "execution_count": 0,
   "metadata": {
    "application/vnd.databricks.v1+cell": {
     "cellMetadata": {
      "byteLimit": 2048000,
      "rowLimit": 10000
     },
     "inputWidgets": {},
     "nuid": "299891e7-f143-4e71-a833-1535c76d5cc5",
     "showTitle": false,
     "tableResultSettingsMap": {
      "0": {
       "dataGridStateBlob": "{\"version\":1,\"tableState\":{\"columnPinning\":{\"left\":[\"#row_number#\"],\"right\":[]},\"columnSizing\":{},\"columnVisibility\":{}},\"settings\":{\"columns\":{}},\"syncTimestamp\":1761926184742}",
       "filterBlob": null,
       "queryPlanFiltersBlob": null,
       "tableResultIndex": 0
      }
     },
     "title": ""
    }
   },
   "outputs": [
    {
     "output_type": "display_data",
     "data": {
      "text/html": [
       "<style scoped>\n",
       "  .table-result-container {\n",
       "    max-height: 300px;\n",
       "    overflow: auto;\n",
       "  }\n",
       "  table, th, td {\n",
       "    border: 1px solid black;\n",
       "    border-collapse: collapse;\n",
       "  }\n",
       "  th, td {\n",
       "    padding: 5px;\n",
       "  }\n",
       "  th {\n",
       "    text-align: left;\n",
       "  }\n",
       "</style><div class='table-result-container'><table class='table-result'><thead style='background-color: white'><tr><th>transaction_date</th><th>product_name</th><th>category</th><th>customer_name</th><th>customer_city</th><th>store_name</th><th>store_location</th><th>total_sales</th><th>total_quantity</th></tr></thead><tbody><tr><td>2025-03-31</td><td>Desk Organizer</td><td>Accessories</td><td>Rohit Mehta</td><td>Bangalore</td><td>Downtown Mini Store</td><td>Pune</td><td>1596.00</td><td>4</td></tr><tr><td>2024-11-12</td><td>Yoga Mat</td><td>Fitness</td><td>Riya Singh</td><td>Chennai</td><td>Downtown Mini Store</td><td>Pune</td><td>2495.00</td><td>5</td></tr><tr><td>2025-05-01</td><td>Bluetooth Speaker</td><td>Electronics</td><td>Rakesh Kapoor</td><td>Kolkata</td><td>High Street Store</td><td>Delhi</td><td>3898.47</td><td>3</td></tr><tr><td>2024-11-02</td><td>Desk Organizer</td><td>Accessories</td><td>Alka Mishra</td><td>Hyderabad</td><td>City Mall Store</td><td>Mumbai</td><td>399.00</td><td>1</td></tr><tr><td>2025-03-17</td><td>Notebook Set</td><td>Stationery</td><td>Riya Singh</td><td>Chennai</td><td>High Street Store</td><td>Delhi</td><td>149.00</td><td>1</td></tr><tr><td>2025-01-04</td><td>Smartwatch</td><td>Electronics</td><td>Deepak Nair</td><td>Mumbai</td><td>Tech World Outlet</td><td>Bangalore</td><td>24995.00</td><td>5</td></tr><tr><td>2025-01-01</td><td>Smartwatch</td><td>Electronics</td><td>Deepak Nair</td><td>Mumbai</td><td>High Street Store</td><td>Delhi</td><td>24995.00</td><td>5</td></tr><tr><td>2025-06-08</td><td>Smartwatch</td><td>Electronics</td><td>Bhavna Nair</td><td>Mumbai</td><td>Mega Plaza</td><td>Chennai</td><td>9998.00</td><td>2</td></tr><tr><td>2024-10-08</td><td>Wireless Mouse</td><td>Electronics</td><td>Arjun Yadav</td><td>Ahmedabad</td><td>Tech World Outlet</td><td>Bangalore</td><td>1599.98</td><td>2</td></tr><tr><td>2024-08-27</td><td>Bluetooth Speaker</td><td>Electronics</td><td>Kavita Sharma</td><td>Kolkata</td><td>High Street Store</td><td>Delhi</td><td>6497.45</td><td>5</td></tr><tr><td>2024-08-11</td><td>Wireless Mouse</td><td>Electronics</td><td>Nina Joshi</td><td>Mumbai</td><td>Tech World Outlet</td><td>Bangalore</td><td>1599.98</td><td>2</td></tr><tr><td>2025-05-26</td><td>Notebook Set</td><td>Stationery</td><td>Rahul Verma</td><td>Kolkata</td><td>City Mall Store</td><td>Mumbai</td><td>596.00</td><td>4</td></tr><tr><td>2025-05-04</td><td>Yoga Mat</td><td>Fitness</td><td>Karan Patel</td><td>Hyderabad</td><td>Tech World Outlet</td><td>Bangalore</td><td>1996.00</td><td>4</td></tr><tr><td>2024-07-17</td><td>Wireless Mouse</td><td>Electronics</td><td>Alka Mishra</td><td>Hyderabad</td><td>Downtown Mini Store</td><td>Pune</td><td>3999.95</td><td>5</td></tr><tr><td>2025-05-19</td><td>Water Bottle</td><td>Fitness</td><td>Sanjay Patel</td><td>Chennai</td><td>Mega Plaza</td><td>Chennai</td><td>1495.00</td><td>5</td></tr><tr><td>2024-11-29</td><td>Water Bottle</td><td>Fitness</td><td>Vikram Mehta</td><td>Mumbai</td><td>High Street Store</td><td>Delhi</td><td>1196.00</td><td>4</td></tr><tr><td>2024-07-10</td><td>Desk Organizer</td><td>Accessories</td><td>Pooja Mehta</td><td>Delhi</td><td>Mega Plaza</td><td>Chennai</td><td>1995.00</td><td>5</td></tr><tr><td>2024-09-05</td><td>Wireless Mouse</td><td>Electronics</td><td>Sonal Sharma</td><td>Bangalore</td><td>Downtown Mini Store</td><td>Pune</td><td>2399.97</td><td>3</td></tr><tr><td>2024-07-14</td><td>Desk Organizer</td><td>Accessories</td><td>Rakesh Kapoor</td><td>Kolkata</td><td>Downtown Mini Store</td><td>Pune</td><td>1596.00</td><td>4</td></tr><tr><td>2024-07-30</td><td>Notebook Set</td><td>Stationery</td><td>Tanvi Kapoor</td><td>Pune</td><td>City Mall Store</td><td>Mumbai</td><td>298.00</td><td>2</td></tr><tr><td>2024-10-02</td><td>Wireless Mouse</td><td>Electronics</td><td>Riya Singh</td><td>Chennai</td><td>Tech World Outlet</td><td>Bangalore</td><td>3999.95</td><td>5</td></tr><tr><td>2024-11-16</td><td>Dumbbell Set</td><td>Fitness</td><td>Priya Kapoor</td><td>Ahmedabad</td><td>Tech World Outlet</td><td>Bangalore</td><td>7996.00</td><td>4</td></tr><tr><td>2025-04-30</td><td>Dumbbell Set</td><td>Fitness</td><td>Tina Kapoor</td><td>Pune</td><td>Downtown Mini Store</td><td>Pune</td><td>3998.00</td><td>2</td></tr><tr><td>2024-07-14</td><td>Wireless Mouse</td><td>Electronics</td><td>Tarun Verma</td><td>Delhi</td><td>Mega Plaza</td><td>Chennai</td><td>799.99</td><td>1</td></tr><tr><td>2024-12-13</td><td>Desk Organizer</td><td>Accessories</td><td>Rakesh Kapoor</td><td>Kolkata</td><td>Downtown Mini Store</td><td>Pune</td><td>1995.00</td><td>5</td></tr><tr><td>2024-09-21</td><td>Water Bottle</td><td>Fitness</td><td>Bhavna Nair</td><td>Mumbai</td><td>High Street Store</td><td>Delhi</td><td>598.00</td><td>2</td></tr><tr><td>2024-10-10</td><td>Desk Organizer</td><td>Accessories</td><td>Rohit Mehta</td><td>Bangalore</td><td>City Mall Store</td><td>Mumbai</td><td>399.00</td><td>1</td></tr><tr><td>2024-11-15</td><td>Smartwatch</td><td>Electronics</td><td>Ravi Yadav</td><td>Delhi</td><td>Mega Plaza</td><td>Chennai</td><td>14997.00</td><td>3</td></tr><tr><td>2025-06-03</td><td>Dumbbell Set</td><td>Fitness</td><td>Kunal Nair</td><td>Bangalore</td><td>Downtown Mini Store</td><td>Pune</td><td>3998.00</td><td>2</td></tr><tr><td>2025-03-16</td><td>Desk Organizer</td><td>Accessories</td><td>Rakesh Kapoor</td><td>Kolkata</td><td>Downtown Mini Store</td><td>Pune</td><td>1995.00</td><td>5</td></tr></tbody></table></div>"
      ]
     },
     "metadata": {
      "application/vnd.databricks.v1+output": {
       "addedWidgets": {},
       "aggData": [],
       "aggError": "",
       "aggOverflow": false,
       "aggSchema": [],
       "aggSeriesLimitReached": false,
       "aggType": "",
       "arguments": {},
       "columnCustomDisplayInfos": {},
       "data": [
        [
         "2025-03-31",
         "Desk Organizer",
         "Accessories",
         "Rohit Mehta",
         "Bangalore",
         "Downtown Mini Store",
         "Pune",
         "1596.00",
         4
        ],
        [
         "2024-11-12",
         "Yoga Mat",
         "Fitness",
         "Riya Singh",
         "Chennai",
         "Downtown Mini Store",
         "Pune",
         "2495.00",
         5
        ],
        [
         "2025-05-01",
         "Bluetooth Speaker",
         "Electronics",
         "Rakesh Kapoor",
         "Kolkata",
         "High Street Store",
         "Delhi",
         "3898.47",
         3
        ],
        [
         "2024-11-02",
         "Desk Organizer",
         "Accessories",
         "Alka Mishra",
         "Hyderabad",
         "City Mall Store",
         "Mumbai",
         "399.00",
         1
        ],
        [
         "2025-03-17",
         "Notebook Set",
         "Stationery",
         "Riya Singh",
         "Chennai",
         "High Street Store",
         "Delhi",
         "149.00",
         1
        ],
        [
         "2025-01-04",
         "Smartwatch",
         "Electronics",
         "Deepak Nair",
         "Mumbai",
         "Tech World Outlet",
         "Bangalore",
         "24995.00",
         5
        ],
        [
         "2025-01-01",
         "Smartwatch",
         "Electronics",
         "Deepak Nair",
         "Mumbai",
         "High Street Store",
         "Delhi",
         "24995.00",
         5
        ],
        [
         "2025-06-08",
         "Smartwatch",
         "Electronics",
         "Bhavna Nair",
         "Mumbai",
         "Mega Plaza",
         "Chennai",
         "9998.00",
         2
        ],
        [
         "2024-10-08",
         "Wireless Mouse",
         "Electronics",
         "Arjun Yadav",
         "Ahmedabad",
         "Tech World Outlet",
         "Bangalore",
         "1599.98",
         2
        ],
        [
         "2024-08-27",
         "Bluetooth Speaker",
         "Electronics",
         "Kavita Sharma",
         "Kolkata",
         "High Street Store",
         "Delhi",
         "6497.45",
         5
        ],
        [
         "2024-08-11",
         "Wireless Mouse",
         "Electronics",
         "Nina Joshi",
         "Mumbai",
         "Tech World Outlet",
         "Bangalore",
         "1599.98",
         2
        ],
        [
         "2025-05-26",
         "Notebook Set",
         "Stationery",
         "Rahul Verma",
         "Kolkata",
         "City Mall Store",
         "Mumbai",
         "596.00",
         4
        ],
        [
         "2025-05-04",
         "Yoga Mat",
         "Fitness",
         "Karan Patel",
         "Hyderabad",
         "Tech World Outlet",
         "Bangalore",
         "1996.00",
         4
        ],
        [
         "2024-07-17",
         "Wireless Mouse",
         "Electronics",
         "Alka Mishra",
         "Hyderabad",
         "Downtown Mini Store",
         "Pune",
         "3999.95",
         5
        ],
        [
         "2025-05-19",
         "Water Bottle",
         "Fitness",
         "Sanjay Patel",
         "Chennai",
         "Mega Plaza",
         "Chennai",
         "1495.00",
         5
        ],
        [
         "2024-11-29",
         "Water Bottle",
         "Fitness",
         "Vikram Mehta",
         "Mumbai",
         "High Street Store",
         "Delhi",
         "1196.00",
         4
        ],
        [
         "2024-07-10",
         "Desk Organizer",
         "Accessories",
         "Pooja Mehta",
         "Delhi",
         "Mega Plaza",
         "Chennai",
         "1995.00",
         5
        ],
        [
         "2024-09-05",
         "Wireless Mouse",
         "Electronics",
         "Sonal Sharma",
         "Bangalore",
         "Downtown Mini Store",
         "Pune",
         "2399.97",
         3
        ],
        [
         "2024-07-14",
         "Desk Organizer",
         "Accessories",
         "Rakesh Kapoor",
         "Kolkata",
         "Downtown Mini Store",
         "Pune",
         "1596.00",
         4
        ],
        [
         "2024-07-30",
         "Notebook Set",
         "Stationery",
         "Tanvi Kapoor",
         "Pune",
         "City Mall Store",
         "Mumbai",
         "298.00",
         2
        ],
        [
         "2024-10-02",
         "Wireless Mouse",
         "Electronics",
         "Riya Singh",
         "Chennai",
         "Tech World Outlet",
         "Bangalore",
         "3999.95",
         5
        ],
        [
         "2024-11-16",
         "Dumbbell Set",
         "Fitness",
         "Priya Kapoor",
         "Ahmedabad",
         "Tech World Outlet",
         "Bangalore",
         "7996.00",
         4
        ],
        [
         "2025-04-30",
         "Dumbbell Set",
         "Fitness",
         "Tina Kapoor",
         "Pune",
         "Downtown Mini Store",
         "Pune",
         "3998.00",
         2
        ],
        [
         "2024-07-14",
         "Wireless Mouse",
         "Electronics",
         "Tarun Verma",
         "Delhi",
         "Mega Plaza",
         "Chennai",
         "799.99",
         1
        ],
        [
         "2024-12-13",
         "Desk Organizer",
         "Accessories",
         "Rakesh Kapoor",
         "Kolkata",
         "Downtown Mini Store",
         "Pune",
         "1995.00",
         5
        ],
        [
         "2024-09-21",
         "Water Bottle",
         "Fitness",
         "Bhavna Nair",
         "Mumbai",
         "High Street Store",
         "Delhi",
         "598.00",
         2
        ],
        [
         "2024-10-10",
         "Desk Organizer",
         "Accessories",
         "Rohit Mehta",
         "Bangalore",
         "City Mall Store",
         "Mumbai",
         "399.00",
         1
        ],
        [
         "2024-11-15",
         "Smartwatch",
         "Electronics",
         "Ravi Yadav",
         "Delhi",
         "Mega Plaza",
         "Chennai",
         "14997.00",
         3
        ],
        [
         "2025-06-03",
         "Dumbbell Set",
         "Fitness",
         "Kunal Nair",
         "Bangalore",
         "Downtown Mini Store",
         "Pune",
         "3998.00",
         2
        ],
        [
         "2025-03-16",
         "Desk Organizer",
         "Accessories",
         "Rakesh Kapoor",
         "Kolkata",
         "Downtown Mini Store",
         "Pune",
         "1995.00",
         5
        ]
       ],
       "datasetInfos": [],
       "dbfsResultPath": null,
       "isJsonSchema": true,
       "metadata": {},
       "overflow": false,
       "plotOptions": {
        "customPlotOptions": {},
        "displayType": "table",
        "pivotAggregation": null,
        "pivotColumns": null,
        "xColumns": null,
        "yColumns": null
       },
       "removedWidgets": [],
       "schema": [
        {
         "metadata": "{}",
         "name": "transaction_date",
         "type": "\"date\""
        },
        {
         "metadata": "{}",
         "name": "product_name",
         "type": "\"string\""
        },
        {
         "metadata": "{}",
         "name": "category",
         "type": "\"string\""
        },
        {
         "metadata": "{}",
         "name": "customer_name",
         "type": "\"string\""
        },
        {
         "metadata": "{}",
         "name": "customer_city",
         "type": "\"string\""
        },
        {
         "metadata": "{}",
         "name": "store_name",
         "type": "\"string\""
        },
        {
         "metadata": "{}",
         "name": "store_location",
         "type": "\"string\""
        },
        {
         "metadata": "{}",
         "name": "total_sales",
         "type": "\"decimal(31,2)\""
        },
        {
         "metadata": "{}",
         "name": "total_quantity",
         "type": "\"long\""
        }
       ],
       "type": "table"
      }
     },
     "output_type": "display_data"
    }
   ],
   "source": [
    "df_sales_agg = df_sales.groupBy('transaction_date', 'product_name', 'category', concat('first_name',lit(' '),'last_name').alias(\"customer_name\"), 'customer_city', 'store_name', 'store_location')\\\n",
    "                       .agg(sum('sales').alias(\"total_sales\"), \n",
    "                            sum('quantity').alias(\"total_quantity\"))\n",
    "display(df_sales_agg)"
   ]
  },
  {
   "cell_type": "markdown",
   "metadata": {
    "application/vnd.databricks.v1+cell": {
     "cellMetadata": {
      "byteLimit": 2048000,
      "rowLimit": 10000
     },
     "inputWidgets": {},
     "nuid": "2f8f75d6-d54d-4a6c-9a21-b4244fd15a14",
     "showTitle": false,
     "tableResultSettingsMap": {},
     "title": ""
    }
   },
   "source": [
    "### Writing all the files to Gold Layer"
   ]
  },
  {
   "cell_type": "code",
   "execution_count": 0,
   "metadata": {
    "application/vnd.databricks.v1+cell": {
     "cellMetadata": {
      "byteLimit": 2048000,
      "rowLimit": 10000
     },
     "inputWidgets": {},
     "nuid": "85eff45b-9040-4048-b35b-4ba5d932f048",
     "showTitle": false,
     "tableResultSettingsMap": {},
     "title": ""
    }
   },
   "outputs": [],
   "source": [
    "def write_to_gold_tables(df,table_name):\n",
    "    df.write.format('delta')\\\n",
    "            .mode('overwrite')\\\n",
    "            .option('overwriteSchema','true')\\\n",
    "            .saveAsTable(f\"amazonretail.gold.{table_name}\")"
   ]
  },
  {
   "cell_type": "code",
   "execution_count": 0,
   "metadata": {
    "application/vnd.databricks.v1+cell": {
     "cellMetadata": {
      "byteLimit": 2048000,
      "rowLimit": 10000
     },
     "inputWidgets": {},
     "nuid": "66fcfdda-c229-4638-8b5c-0622d79158f2",
     "showTitle": false,
     "tableResultSettingsMap": {},
     "title": ""
    }
   },
   "outputs": [],
   "source": [
    "write_to_gold_tables(df_product_agg,'gold_product_agg')\n",
    "write_to_gold_tables(df_store_agg,'gold_store_agg')\n",
    "write_to_gold_tables(df_customer_agg,'gold_customer_agg')\n",
    "write_to_gold_tables(df_customer_city_agg,'gold_customer_city_agg')\n",
    "write_to_gold_tables(df_sales_agg,'gold_sales_agg')"
   ]
  },
  {
   "cell_type": "markdown",
   "metadata": {
    "application/vnd.databricks.v1+cell": {
     "cellMetadata": {
      "byteLimit": 2048000,
      "rowLimit": 10000
     },
     "inputWidgets": {},
     "nuid": "7c4f3788-9c4a-492d-b96b-718cb1baf349",
     "showTitle": false,
     "tableResultSettingsMap": {},
     "title": ""
    }
   },
   "source": [
    "### Writing all the files in Delta Format to Gold Container in ADLS"
   ]
  },
  {
   "cell_type": "code",
   "execution_count": 0,
   "metadata": {
    "application/vnd.databricks.v1+cell": {
     "cellMetadata": {
      "byteLimit": 2048000,
      "rowLimit": 10000
     },
     "inputWidgets": {},
     "nuid": "0b0a5e06-10f8-4af0-ab4b-1b14b48240ee",
     "showTitle": false,
     "tableResultSettingsMap": {},
     "title": ""
    }
   },
   "outputs": [],
   "source": [
    "gold_path = 'abfss://gold@amazonprimeadls.dfs.core.windows.net/'\n",
    "\n",
    "df_product_agg.write.format('delta').mode('overwrite').option('overwriteSchema','true').save(f\"{gold_path}product_agg\")\n",
    "df_store_agg.write.format('delta').mode('overwrite').option('overwriteSchema','true').save(f\"{gold_path}store_agg\")\n",
    "df_customer_agg.write.format('delta').mode('overwrite').option('overwriteSchema','true').save(f\"{gold_path}customer_agg\")\n",
    "df_customer_city_agg.write.format('delta').mode('overwrite').option('overwriteSchema','true').save(f\"{gold_path}customer_city_agg\")\n",
    "df_sales_agg.write.format('delta').mode('overwrite').option('overwriteSchema','true').save(f\"{gold_path}sales_agg\")"
   ]
  }
 ],
 "metadata": {
  "application/vnd.databricks.v1+notebook": {
   "computePreferences": null,
   "dashboards": [],
   "environmentMetadata": {
    "base_environment": "",
    "environment_version": "4"
   },
   "inputWidgetPreferences": null,
   "language": "python",
   "notebookMetadata": {
    "mostRecentlyExecutedCommandWithImplicitDF": {
     "commandId": 5957647426170849,
     "dataframes": [
      "_sqldf"
     ]
    },
    "pythonIndentUnit": 4
   },
   "notebookName": "3. Data Transformation in Gold Layer",
   "widgets": {}
  },
  "language_info": {
   "name": "python"
  }
 },
 "nbformat": 4,
 "nbformat_minor": 0
}
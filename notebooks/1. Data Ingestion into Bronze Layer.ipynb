{
 "cells": [
  {
   "cell_type": "code",
   "execution_count": 0,
   "metadata": {
    "application/vnd.databricks.v1+cell": {
     "cellMetadata": {
      "byteLimit": 2048000,
      "rowLimit": 10000
     },
     "inputWidgets": {},
     "nuid": "d5847fc7-782c-401f-8665-6eaa43e195e0",
     "showTitle": false,
     "tableResultSettingsMap": {},
     "title": ""
    }
   },
   "outputs": [],
   "source": [
    "from pyspark.sql.functions import *\n",
    "from pyspark.sql.types import *"
   ]
  },
  {
   "cell_type": "code",
   "execution_count": 0,
   "metadata": {
    "application/vnd.databricks.v1+cell": {
     "cellMetadata": {
      "byteLimit": 2048000,
      "implicitDf": true,
      "rowLimit": 10000
     },
     "inputWidgets": {},
     "nuid": "32b4f657-c9ea-4a84-b209-d240e48fe535",
     "showTitle": false,
     "tableResultSettingsMap": {},
     "title": ""
    }
   },
   "outputs": [
    {
     "output_type": "display_data",
     "data": {
      "application/vnd.databricks.empty-table+json": {
       "directive_name": "NoDirective"
      }
     },
     "metadata": {},
     "output_type": "display_data"
    }
   ],
   "source": [
    "%sql\n",
    "USE CATALOG amazonretail;\n",
    "USE SCHEMA bronze;"
   ]
  },
  {
   "cell_type": "markdown",
   "metadata": {
    "application/vnd.databricks.v1+cell": {
     "cellMetadata": {
      "byteLimit": 2048000,
      "rowLimit": 10000
     },
     "inputWidgets": {},
     "nuid": "e8097346-9ffa-4540-a057-afd15a331fb1",
     "showTitle": false,
     "tableResultSettingsMap": {},
     "title": ""
    }
   },
   "source": [
    "### Reading Product file"
   ]
  },
  {
   "cell_type": "code",
   "execution_count": 0,
   "metadata": {
    "application/vnd.databricks.v1+cell": {
     "cellMetadata": {
      "byteLimit": 2048000,
      "rowLimit": 10000
     },
     "inputWidgets": {},
     "nuid": "6f43c6f0-6639-4879-9ce2-5ced8b53da15",
     "showTitle": false,
     "tableResultSettingsMap": {},
     "title": ""
    }
   },
   "outputs": [
    {
     "output_type": "display_data",
     "data": {
      "text/html": [
       "<style scoped>\n",
       "  .table-result-container {\n",
       "    max-height: 300px;\n",
       "    overflow: auto;\n",
       "  }\n",
       "  table, th, td {\n",
       "    border: 1px solid black;\n",
       "    border-collapse: collapse;\n",
       "  }\n",
       "  th, td {\n",
       "    padding: 5px;\n",
       "  }\n",
       "  th {\n",
       "    text-align: left;\n",
       "  }\n",
       "</style><div class='table-result-container'><table class='table-result'><thead style='background-color: white'><tr><th>product_id</th><th>product_name</th><th>category</th><th>price</th></tr></thead><tbody><tr><td>1</td><td>Wireless Mouse</td><td>Electronics</td><td>799.99</td></tr><tr><td>2</td><td>Bluetooth Speaker</td><td>Electronics</td><td>1299.49</td></tr><tr><td>3</td><td>Yoga Mat</td><td>Fitness</td><td>499.00</td></tr><tr><td>4</td><td>Laptop Stand</td><td>Accessories</td><td>999.99</td></tr><tr><td>5</td><td>Notebook Set</td><td>Stationery</td><td>149.00</td></tr><tr><td>6</td><td>Water Bottle</td><td>Fitness</td><td>299.00</td></tr><tr><td>7</td><td>Smartwatch</td><td>Electronics</td><td>4999.00</td></tr><tr><td>8</td><td>Desk Organizer</td><td>Accessories</td><td>399.00</td></tr><tr><td>9</td><td>Dumbbell Set</td><td>Fitness</td><td>1999.00</td></tr><tr><td>10</td><td>Pen Drive 32GB</td><td>Electronics</td><td>599.00</td></tr></tbody></table></div>"
      ]
     },
     "metadata": {
      "application/vnd.databricks.v1+output": {
       "addedWidgets": {},
       "aggData": [],
       "aggError": "",
       "aggOverflow": false,
       "aggSchema": [],
       "aggSeriesLimitReached": false,
       "aggType": "",
       "arguments": {},
       "columnCustomDisplayInfos": {},
       "data": [
        [
         1,
         "Wireless Mouse",
         "Electronics",
         "799.99"
        ],
        [
         2,
         "Bluetooth Speaker",
         "Electronics",
         "1299.49"
        ],
        [
         3,
         "Yoga Mat",
         "Fitness",
         "499.00"
        ],
        [
         4,
         "Laptop Stand",
         "Accessories",
         "999.99"
        ],
        [
         5,
         "Notebook Set",
         "Stationery",
         "149.00"
        ],
        [
         6,
         "Water Bottle",
         "Fitness",
         "299.00"
        ],
        [
         7,
         "Smartwatch",
         "Electronics",
         "4999.00"
        ],
        [
         8,
         "Desk Organizer",
         "Accessories",
         "399.00"
        ],
        [
         9,
         "Dumbbell Set",
         "Fitness",
         "1999.00"
        ],
        [
         10,
         "Pen Drive 32GB",
         "Electronics",
         "599.00"
        ]
       ],
       "datasetInfos": [],
       "dbfsResultPath": null,
       "isJsonSchema": true,
       "metadata": {},
       "overflow": false,
       "plotOptions": {
        "customPlotOptions": {},
        "displayType": "table",
        "pivotAggregation": null,
        "pivotColumns": null,
        "xColumns": null,
        "yColumns": null
       },
       "removedWidgets": [],
       "schema": [
        {
         "metadata": "{}",
         "name": "product_id",
         "type": "\"integer\""
        },
        {
         "metadata": "{}",
         "name": "product_name",
         "type": "\"string\""
        },
        {
         "metadata": "{}",
         "name": "category",
         "type": "\"string\""
        },
        {
         "metadata": "{}",
         "name": "price",
         "type": "\"decimal(10,2)\""
        }
       ],
       "type": "table"
      }
     },
     "output_type": "display_data"
    }
   ],
   "source": [
    "df_product = spark.read.format(\"parquet\")\\\n",
    "                        .option(\"header\", \"true\")\\\n",
    "                        .option(\"inferSchema\", \"true\")\\\n",
    "                        .load(\"abfss://bronze@amazonprimeadls.dfs.core.windows.net/product\")\n",
    "display(df_product)"
   ]
  },
  {
   "cell_type": "markdown",
   "metadata": {
    "application/vnd.databricks.v1+cell": {
     "cellMetadata": {
      "byteLimit": 2048000,
      "rowLimit": 10000
     },
     "inputWidgets": {},
     "nuid": "282c2760-5860-4321-b714-93f133244fc9",
     "showTitle": false,
     "tableResultSettingsMap": {},
     "title": ""
    }
   },
   "source": [
    "### Reading Customer file"
   ]
  },
  {
   "cell_type": "code",
   "execution_count": 0,
   "metadata": {
    "application/vnd.databricks.v1+cell": {
     "cellMetadata": {
      "byteLimit": 2048000,
      "rowLimit": 10000
     },
     "inputWidgets": {},
     "nuid": "17d1a420-405a-4719-831f-75c71216f327",
     "showTitle": false,
     "tableResultSettingsMap": {},
     "title": ""
    }
   },
   "outputs": [
    {
     "output_type": "display_data",
     "data": {
      "text/html": [
       "<style scoped>\n",
       "  .table-result-container {\n",
       "    max-height: 300px;\n",
       "    overflow: auto;\n",
       "  }\n",
       "  table, th, td {\n",
       "    border: 1px solid black;\n",
       "    border-collapse: collapse;\n",
       "  }\n",
       "  th, td {\n",
       "    padding: 5px;\n",
       "  }\n",
       "  th {\n",
       "    text-align: left;\n",
       "  }\n",
       "</style><div class='table-result-container'><table class='table-result'><thead style='background-color: white'><tr><th>customer_id</th><th>first_name</th><th>last_name</th><th>email</th><th>phone</th><th>city</th><th>registration_date</th></tr></thead><tbody><tr><td>101</td><td>Ravi</td><td>Yadav</td><td>user101@example.com</td><td>9887654321</td><td>Delhi</td><td>2023-09-14</td></tr><tr><td>102</td><td>Nina</td><td>Joshi</td><td>user102@example.com</td><td>9876543210</td><td>Mumbai</td><td>2024-01-21</td></tr><tr><td>103</td><td>Sonal</td><td>Sharma</td><td>user103@example.com</td><td>9865432109</td><td>Bangalore</td><td>2023-07-10</td></tr><tr><td>104</td><td>Karan</td><td>Patel</td><td>user104@example.com</td><td>9854321098</td><td>Hyderabad</td><td>2024-02-05</td></tr><tr><td>105</td><td>Riya</td><td>Singh</td><td>user105@example.com</td><td>9843210987</td><td>Chennai</td><td>2023-06-28</td></tr><tr><td>106</td><td>Ajay</td><td>Mishra</td><td>user106@example.com</td><td>9832109876</td><td>Pune</td><td>2024-03-10</td></tr><tr><td>107</td><td>Priya</td><td>Kapoor</td><td>user107@example.com</td><td>9821098765</td><td>Ahmedabad</td><td>2023-05-12</td></tr><tr><td>108</td><td>Rahul</td><td>Verma</td><td>user108@example.com</td><td>9810987654</td><td>Kolkata</td><td>2023-08-19</td></tr><tr><td>109</td><td>Pooja</td><td>Mehta</td><td>user109@example.com</td><td>9809876543</td><td>Delhi</td><td>2024-04-01</td></tr><tr><td>110</td><td>Deepak</td><td>Nair</td><td>user110@example.com</td><td>9798765432</td><td>Mumbai</td><td>2023-10-14</td></tr><tr><td>111</td><td>Sneha</td><td>Joshi</td><td>user111@example.com</td><td>9787654321</td><td>Bangalore</td><td>2024-01-01</td></tr><tr><td>112</td><td>Manoj</td><td>Sharma</td><td>user112@example.com</td><td>9776543210</td><td>Hyderabad</td><td>2023-09-30</td></tr><tr><td>113</td><td>Divya</td><td>Singh</td><td>user113@example.com</td><td>9765432109</td><td>Chennai</td><td>2024-02-18</td></tr><tr><td>114</td><td>Suresh</td><td>Patel</td><td>user114@example.com</td><td>9754321098</td><td>Pune</td><td>2023-11-25</td></tr><tr><td>115</td><td>Anita</td><td>Yadav</td><td>user115@example.com</td><td>9743210987</td><td>Ahmedabad</td><td>2023-07-05</td></tr><tr><td>116</td><td>Rakesh</td><td>Kapoor</td><td>user116@example.com</td><td>9732109876</td><td>Kolkata</td><td>2023-06-15</td></tr><tr><td>117</td><td>Neha</td><td>Verma</td><td>user117@example.com</td><td>9721098765</td><td>Delhi</td><td>2024-03-01</td></tr><tr><td>118</td><td>Vikram</td><td>Mehta</td><td>user118@example.com</td><td>9710987654</td><td>Mumbai</td><td>2023-04-22</td></tr><tr><td>119</td><td>Kunal</td><td>Nair</td><td>user119@example.com</td><td>9709876543</td><td>Bangalore</td><td>2023-08-10</td></tr><tr><td>120</td><td>Alka</td><td>Mishra</td><td>user120@example.com</td><td>9698765432</td><td>Hyderabad</td><td>2023-12-01</td></tr><tr><td>121</td><td>Sanjay</td><td>Patel</td><td>user121@example.com</td><td>9687654321</td><td>Chennai</td><td>2024-01-10</td></tr><tr><td>122</td><td>Tina</td><td>Kapoor</td><td>user122@example.com</td><td>9676543210</td><td>Pune</td><td>2023-09-20</td></tr><tr><td>123</td><td>Arjun</td><td>Yadav</td><td>user123@example.com</td><td>9665432109</td><td>Ahmedabad</td><td>2024-02-25</td></tr><tr><td>124</td><td>Kavita</td><td>Sharma</td><td>user124@example.com</td><td>9654321098</td><td>Kolkata</td><td>2023-11-15</td></tr><tr><td>125</td><td>Tarun</td><td>Verma</td><td>user125@example.com</td><td>9643210987</td><td>Delhi</td><td>2024-04-05</td></tr><tr><td>126</td><td>Bhavna</td><td>Nair</td><td>user126@example.com</td><td>9632109876</td><td>Mumbai</td><td>2023-07-17</td></tr><tr><td>127</td><td>Rohit</td><td>Mehta</td><td>user127@example.com</td><td>9621098765</td><td>Bangalore</td><td>2023-08-30</td></tr><tr><td>128</td><td>Simran</td><td>Joshi</td><td>user128@example.com</td><td>9610987654</td><td>Hyderabad</td><td>2023-06-11</td></tr><tr><td>129</td><td>Vivek</td><td>Singh</td><td>user129@example.com</td><td>9609876543</td><td>Chennai</td><td>2024-02-12</td></tr><tr><td>130</td><td>Tanvi</td><td>Kapoor</td><td>user130@example.com</td><td>9598765432</td><td>Pune</td><td>2023-12-22</td></tr><tr><td>131</td><td>Gaurav</td><td>Patel</td><td>user131@example.com</td><td>9587654321</td><td>Ahmedabad</td><td>2023-10-05</td></tr><tr><td>132</td><td>Reena</td><td>Sharma</td><td>user132@example.com</td><td>9576543210</td><td>Kolkata</td><td>2024-03-20</td></tr><tr><td>133</td><td>Ishaan</td><td>Verma</td><td>user133@example.com</td><td>9565432109</td><td>Delhi</td><td>2023-07-03</td></tr><tr><td>134</td><td>Jaya</td><td>Yadav</td><td>user134@example.com</td><td>9554321098</td><td>Mumbai</td><td>2023-08-08</td></tr><tr><td>135</td><td>Sakshi</td><td>Mishra</td><td>user135@example.com</td><td>9543210987</td><td>Bangalore</td><td>2023-06-29</td></tr><tr><td>136</td><td>Nilesh</td><td>Kapoor</td><td>user136@example.com</td><td>9532109876</td><td>Hyderabad</td><td>2024-01-30</td></tr><tr><td>137</td><td>Shweta</td><td>Mehta</td><td>user137@example.com</td><td>9521098765</td><td>Chennai</td><td>2023-05-06</td></tr><tr><td>138</td><td>Yash</td><td>Singh</td><td>user138@example.com</td><td>9510987654</td><td>Pune</td><td>2023-10-18</td></tr><tr><td>139</td><td>Harsha</td><td>Patel</td><td>user139@example.com</td><td>9509876543</td><td>Ahmedabad</td><td>2024-03-08</td></tr><tr><td>140</td><td>Vipin</td><td>Joshi</td><td>user140@example.com</td><td>9498765432</td><td>Kolkata</td><td>2023-09-07</td></tr><tr><td>141</td><td>Rachna</td><td>Nair</td><td>user141@example.com</td><td>9487654321</td><td>Delhi</td><td>2024-02-27</td></tr><tr><td>142</td><td>Lokesh</td><td>Mishra</td><td>user142@example.com</td><td>9476543210</td><td>Mumbai</td><td>2023-04-25</td></tr><tr><td>143</td><td>Payal</td><td>Sharma</td><td>user143@example.com</td><td>9465432109</td><td>Bangalore</td><td>2023-08-16</td></tr><tr><td>144</td><td>Abhay</td><td>Yadav</td><td>user144@example.com</td><td>9454321098</td><td>Hyderabad</td><td>2024-01-06</td></tr><tr><td>145</td><td>Ritu</td><td>Kapoor</td><td>user145@example.com</td><td>9443210987</td><td>Chennai</td><td>2023-11-09</td></tr><tr><td>146</td><td>Dev</td><td>Mehta</td><td>user146@example.com</td><td>9432109876</td><td>Pune</td><td>2023-07-27</td></tr><tr><td>147</td><td>Shikha</td><td>Singh</td><td>user147@example.com</td><td>9421098765</td><td>Ahmedabad</td><td>2023-10-12</td></tr><tr><td>148</td><td>Mahesh</td><td>Patel</td><td>user148@example.com</td><td>9410987654</td><td>Kolkata</td><td>2024-02-15</td></tr><tr><td>149</td><td>Tanya</td><td>Verma</td><td>user149@example.com</td><td>9409876543</td><td>Delhi</td><td>2023-06-20</td></tr><tr><td>150</td><td>Aman</td><td>Joshi</td><td>user150@example.com</td><td>9398765432</td><td>Mumbai</td><td>2023-05-31</td></tr></tbody></table></div>"
      ]
     },
     "metadata": {
      "application/vnd.databricks.v1+output": {
       "addedWidgets": {},
       "aggData": [],
       "aggError": "",
       "aggOverflow": false,
       "aggSchema": [],
       "aggSeriesLimitReached": false,
       "aggType": "",
       "arguments": {},
       "columnCustomDisplayInfos": {},
       "data": [
        [
         101,
         "Ravi",
         "Yadav",
         "user101@example.com",
         "9887654321",
         "Delhi",
         "2023-09-14"
        ],
        [
         102,
         "Nina",
         "Joshi",
         "user102@example.com",
         "9876543210",
         "Mumbai",
         "2024-01-21"
        ],
        [
         103,
         "Sonal",
         "Sharma",
         "user103@example.com",
         "9865432109",
         "Bangalore",
         "2023-07-10"
        ],
        [
         104,
         "Karan",
         "Patel",
         "user104@example.com",
         "9854321098",
         "Hyderabad",
         "2024-02-05"
        ],
        [
         105,
         "Riya",
         "Singh",
         "user105@example.com",
         "9843210987",
         "Chennai",
         "2023-06-28"
        ],
        [
         106,
         "Ajay",
         "Mishra",
         "user106@example.com",
         "9832109876",
         "Pune",
         "2024-03-10"
        ],
        [
         107,
         "Priya",
         "Kapoor",
         "user107@example.com",
         "9821098765",
         "Ahmedabad",
         "2023-05-12"
        ],
        [
         108,
         "Rahul",
         "Verma",
         "user108@example.com",
         "9810987654",
         "Kolkata",
         "2023-08-19"
        ],
        [
         109,
         "Pooja",
         "Mehta",
         "user109@example.com",
         "9809876543",
         "Delhi",
         "2024-04-01"
        ],
        [
         110,
         "Deepak",
         "Nair",
         "user110@example.com",
         "9798765432",
         "Mumbai",
         "2023-10-14"
        ],
        [
         111,
         "Sneha",
         "Joshi",
         "user111@example.com",
         "9787654321",
         "Bangalore",
         "2024-01-01"
        ],
        [
         112,
         "Manoj",
         "Sharma",
         "user112@example.com",
         "9776543210",
         "Hyderabad",
         "2023-09-30"
        ],
        [
         113,
         "Divya",
         "Singh",
         "user113@example.com",
         "9765432109",
         "Chennai",
         "2024-02-18"
        ],
        [
         114,
         "Suresh",
         "Patel",
         "user114@example.com",
         "9754321098",
         "Pune",
         "2023-11-25"
        ],
        [
         115,
         "Anita",
         "Yadav",
         "user115@example.com",
         "9743210987",
         "Ahmedabad",
         "2023-07-05"
        ],
        [
         116,
         "Rakesh",
         "Kapoor",
         "user116@example.com",
         "9732109876",
         "Kolkata",
         "2023-06-15"
        ],
        [
         117,
         "Neha",
         "Verma",
         "user117@example.com",
         "9721098765",
         "Delhi",
         "2024-03-01"
        ],
        [
         118,
         "Vikram",
         "Mehta",
         "user118@example.com",
         "9710987654",
         "Mumbai",
         "2023-04-22"
        ],
        [
         119,
         "Kunal",
         "Nair",
         "user119@example.com",
         "9709876543",
         "Bangalore",
         "2023-08-10"
        ],
        [
         120,
         "Alka",
         "Mishra",
         "user120@example.com",
         "9698765432",
         "Hyderabad",
         "2023-12-01"
        ],
        [
         121,
         "Sanjay",
         "Patel",
         "user121@example.com",
         "9687654321",
         "Chennai",
         "2024-01-10"
        ],
        [
         122,
         "Tina",
         "Kapoor",
         "user122@example.com",
         "9676543210",
         "Pune",
         "2023-09-20"
        ],
        [
         123,
         "Arjun",
         "Yadav",
         "user123@example.com",
         "9665432109",
         "Ahmedabad",
         "2024-02-25"
        ],
        [
         124,
         "Kavita",
         "Sharma",
         "user124@example.com",
         "9654321098",
         "Kolkata",
         "2023-11-15"
        ],
        [
         125,
         "Tarun",
         "Verma",
         "user125@example.com",
         "9643210987",
         "Delhi",
         "2024-04-05"
        ],
        [
         126,
         "Bhavna",
         "Nair",
         "user126@example.com",
         "9632109876",
         "Mumbai",
         "2023-07-17"
        ],
        [
         127,
         "Rohit",
         "Mehta",
         "user127@example.com",
         "9621098765",
         "Bangalore",
         "2023-08-30"
        ],
        [
         128,
         "Simran",
         "Joshi",
         "user128@example.com",
         "9610987654",
         "Hyderabad",
         "2023-06-11"
        ],
        [
         129,
         "Vivek",
         "Singh",
         "user129@example.com",
         "9609876543",
         "Chennai",
         "2024-02-12"
        ],
        [
         130,
         "Tanvi",
         "Kapoor",
         "user130@example.com",
         "9598765432",
         "Pune",
         "2023-12-22"
        ],
        [
         131,
         "Gaurav",
         "Patel",
         "user131@example.com",
         "9587654321",
         "Ahmedabad",
         "2023-10-05"
        ],
        [
         132,
         "Reena",
         "Sharma",
         "user132@example.com",
         "9576543210",
         "Kolkata",
         "2024-03-20"
        ],
        [
         133,
         "Ishaan",
         "Verma",
         "user133@example.com",
         "9565432109",
         "Delhi",
         "2023-07-03"
        ],
        [
         134,
         "Jaya",
         "Yadav",
         "user134@example.com",
         "9554321098",
         "Mumbai",
         "2023-08-08"
        ],
        [
         135,
         "Sakshi",
         "Mishra",
         "user135@example.com",
         "9543210987",
         "Bangalore",
         "2023-06-29"
        ],
        [
         136,
         "Nilesh",
         "Kapoor",
         "user136@example.com",
         "9532109876",
         "Hyderabad",
         "2024-01-30"
        ],
        [
         137,
         "Shweta",
         "Mehta",
         "user137@example.com",
         "9521098765",
         "Chennai",
         "2023-05-06"
        ],
        [
         138,
         "Yash",
         "Singh",
         "user138@example.com",
         "9510987654",
         "Pune",
         "2023-10-18"
        ],
        [
         139,
         "Harsha",
         "Patel",
         "user139@example.com",
         "9509876543",
         "Ahmedabad",
         "2024-03-08"
        ],
        [
         140,
         "Vipin",
         "Joshi",
         "user140@example.com",
         "9498765432",
         "Kolkata",
         "2023-09-07"
        ],
        [
         141,
         "Rachna",
         "Nair",
         "user141@example.com",
         "9487654321",
         "Delhi",
         "2024-02-27"
        ],
        [
         142,
         "Lokesh",
         "Mishra",
         "user142@example.com",
         "9476543210",
         "Mumbai",
         "2023-04-25"
        ],
        [
         143,
         "Payal",
         "Sharma",
         "user143@example.com",
         "9465432109",
         "Bangalore",
         "2023-08-16"
        ],
        [
         144,
         "Abhay",
         "Yadav",
         "user144@example.com",
         "9454321098",
         "Hyderabad",
         "2024-01-06"
        ],
        [
         145,
         "Ritu",
         "Kapoor",
         "user145@example.com",
         "9443210987",
         "Chennai",
         "2023-11-09"
        ],
        [
         146,
         "Dev",
         "Mehta",
         "user146@example.com",
         "9432109876",
         "Pune",
         "2023-07-27"
        ],
        [
         147,
         "Shikha",
         "Singh",
         "user147@example.com",
         "9421098765",
         "Ahmedabad",
         "2023-10-12"
        ],
        [
         148,
         "Mahesh",
         "Patel",
         "user148@example.com",
         "9410987654",
         "Kolkata",
         "2024-02-15"
        ],
        [
         149,
         "Tanya",
         "Verma",
         "user149@example.com",
         "9409876543",
         "Delhi",
         "2023-06-20"
        ],
        [
         150,
         "Aman",
         "Joshi",
         "user150@example.com",
         "9398765432",
         "Mumbai",
         "2023-05-31"
        ]
       ],
       "datasetInfos": [],
       "dbfsResultPath": null,
       "isJsonSchema": true,
       "metadata": {},
       "overflow": false,
       "plotOptions": {
        "customPlotOptions": {},
        "displayType": "table",
        "pivotAggregation": null,
        "pivotColumns": null,
        "xColumns": null,
        "yColumns": null
       },
       "removedWidgets": [],
       "schema": [
        {
         "metadata": "{}",
         "name": "customer_id",
         "type": "\"long\""
        },
        {
         "metadata": "{}",
         "name": "first_name",
         "type": "\"string\""
        },
        {
         "metadata": "{}",
         "name": "last_name",
         "type": "\"string\""
        },
        {
         "metadata": "{}",
         "name": "email",
         "type": "\"string\""
        },
        {
         "metadata": "{}",
         "name": "phone",
         "type": "\"string\""
        },
        {
         "metadata": "{}",
         "name": "city",
         "type": "\"string\""
        },
        {
         "metadata": "{}",
         "name": "registration_date",
         "type": "\"string\""
        }
       ],
       "type": "table"
      }
     },
     "output_type": "display_data"
    }
   ],
   "source": [
    "df_customer = spark.read.format(\"parquet\")\\\n",
    "                        .option(\"header\", \"true\")\\\n",
    "                        .option(\"inferSchema\", \"true\")\\\n",
    "                        .load(\"abfss://bronze@amazonprimeadls.dfs.core.windows.net/customer\")\n",
    "display(df_customer)"
   ]
  },
  {
   "cell_type": "markdown",
   "metadata": {
    "application/vnd.databricks.v1+cell": {
     "cellMetadata": {
      "byteLimit": 2048000,
      "rowLimit": 10000
     },
     "inputWidgets": {},
     "nuid": "25a2b8fd-781c-40a5-8e1c-9e9860adf6b9",
     "showTitle": false,
     "tableResultSettingsMap": {},
     "title": ""
    }
   },
   "source": [
    "### Reading Transaction file"
   ]
  },
  {
   "cell_type": "code",
   "execution_count": 0,
   "metadata": {
    "application/vnd.databricks.v1+cell": {
     "cellMetadata": {
      "byteLimit": 2048000,
      "rowLimit": 10000
     },
     "inputWidgets": {},
     "nuid": "db9d3c7e-1fce-4ad1-b633-003346a9373d",
     "showTitle": false,
     "tableResultSettingsMap": {},
     "title": ""
    }
   },
   "outputs": [
    {
     "output_type": "display_data",
     "data": {
      "text/html": [
       "<style scoped>\n",
       "  .table-result-container {\n",
       "    max-height: 300px;\n",
       "    overflow: auto;\n",
       "  }\n",
       "  table, th, td {\n",
       "    border: 1px solid black;\n",
       "    border-collapse: collapse;\n",
       "  }\n",
       "  th, td {\n",
       "    padding: 5px;\n",
       "  }\n",
       "  th {\n",
       "    text-align: left;\n",
       "  }\n",
       "</style><div class='table-result-container'><table class='table-result'><thead style='background-color: white'><tr><th>transaction_id</th><th>customer_id</th><th>product_id</th><th>store_id</th><th>quantity</th><th>transaction_date</th></tr></thead><tbody><tr><td>1</td><td>127</td><td>8</td><td>4</td><td>4</td><td>2025-03-31</td></tr><tr><td>2</td><td>105</td><td>3</td><td>4</td><td>5</td><td>2024-11-12</td></tr><tr><td>3</td><td>116</td><td>2</td><td>2</td><td>3</td><td>2025-05-01</td></tr><tr><td>4</td><td>120</td><td>8</td><td>1</td><td>1</td><td>2024-11-02</td></tr><tr><td>5</td><td>105</td><td>5</td><td>2</td><td>1</td><td>2025-03-17</td></tr><tr><td>6</td><td>110</td><td>7</td><td>3</td><td>5</td><td>2025-01-04</td></tr><tr><td>7</td><td>110</td><td>7</td><td>2</td><td>5</td><td>2025-01-01</td></tr><tr><td>8</td><td>126</td><td>7</td><td>5</td><td>2</td><td>2025-06-08</td></tr><tr><td>9</td><td>123</td><td>1</td><td>3</td><td>2</td><td>2024-10-08</td></tr><tr><td>10</td><td>124</td><td>2</td><td>2</td><td>5</td><td>2024-08-27</td></tr><tr><td>11</td><td>102</td><td>1</td><td>3</td><td>2</td><td>2024-08-11</td></tr><tr><td>12</td><td>108</td><td>5</td><td>1</td><td>4</td><td>2025-05-26</td></tr><tr><td>13</td><td>104</td><td>3</td><td>3</td><td>4</td><td>2025-05-04</td></tr><tr><td>14</td><td>120</td><td>1</td><td>4</td><td>5</td><td>2024-07-17</td></tr><tr><td>15</td><td>121</td><td>6</td><td>5</td><td>5</td><td>2025-05-19</td></tr><tr><td>16</td><td>118</td><td>6</td><td>2</td><td>4</td><td>2024-11-29</td></tr><tr><td>17</td><td>109</td><td>8</td><td>5</td><td>5</td><td>2024-07-10</td></tr><tr><td>18</td><td>103</td><td>1</td><td>4</td><td>3</td><td>2024-09-05</td></tr><tr><td>19</td><td>116</td><td>8</td><td>4</td><td>4</td><td>2024-07-14</td></tr><tr><td>20</td><td>130</td><td>5</td><td>1</td><td>2</td><td>2024-07-30</td></tr><tr><td>21</td><td>105</td><td>1</td><td>3</td><td>5</td><td>2024-10-02</td></tr><tr><td>22</td><td>107</td><td>9</td><td>3</td><td>4</td><td>2024-11-16</td></tr><tr><td>23</td><td>122</td><td>9</td><td>4</td><td>2</td><td>2025-04-30</td></tr><tr><td>24</td><td>125</td><td>1</td><td>5</td><td>1</td><td>2024-07-14</td></tr><tr><td>25</td><td>116</td><td>8</td><td>4</td><td>5</td><td>2024-12-13</td></tr><tr><td>26</td><td>126</td><td>6</td><td>2</td><td>2</td><td>2024-09-21</td></tr><tr><td>27</td><td>127</td><td>8</td><td>1</td><td>1</td><td>2024-10-10</td></tr><tr><td>28</td><td>101</td><td>7</td><td>5</td><td>3</td><td>2024-11-15</td></tr><tr><td>29</td><td>119</td><td>9</td><td>4</td><td>2</td><td>2025-06-03</td></tr><tr><td>30</td><td>116</td><td>8</td><td>4</td><td>5</td><td>2025-03-16</td></tr></tbody></table></div>"
      ]
     },
     "metadata": {
      "application/vnd.databricks.v1+output": {
       "addedWidgets": {},
       "aggData": [],
       "aggError": "",
       "aggOverflow": false,
       "aggSchema": [],
       "aggSeriesLimitReached": false,
       "aggType": "",
       "arguments": {},
       "columnCustomDisplayInfos": {},
       "data": [
        [
         1,
         127,
         8,
         4,
         4,
         "2025-03-31"
        ],
        [
         2,
         105,
         3,
         4,
         5,
         "2024-11-12"
        ],
        [
         3,
         116,
         2,
         2,
         3,
         "2025-05-01"
        ],
        [
         4,
         120,
         8,
         1,
         1,
         "2024-11-02"
        ],
        [
         5,
         105,
         5,
         2,
         1,
         "2025-03-17"
        ],
        [
         6,
         110,
         7,
         3,
         5,
         "2025-01-04"
        ],
        [
         7,
         110,
         7,
         2,
         5,
         "2025-01-01"
        ],
        [
         8,
         126,
         7,
         5,
         2,
         "2025-06-08"
        ],
        [
         9,
         123,
         1,
         3,
         2,
         "2024-10-08"
        ],
        [
         10,
         124,
         2,
         2,
         5,
         "2024-08-27"
        ],
        [
         11,
         102,
         1,
         3,
         2,
         "2024-08-11"
        ],
        [
         12,
         108,
         5,
         1,
         4,
         "2025-05-26"
        ],
        [
         13,
         104,
         3,
         3,
         4,
         "2025-05-04"
        ],
        [
         14,
         120,
         1,
         4,
         5,
         "2024-07-17"
        ],
        [
         15,
         121,
         6,
         5,
         5,
         "2025-05-19"
        ],
        [
         16,
         118,
         6,
         2,
         4,
         "2024-11-29"
        ],
        [
         17,
         109,
         8,
         5,
         5,
         "2024-07-10"
        ],
        [
         18,
         103,
         1,
         4,
         3,
         "2024-09-05"
        ],
        [
         19,
         116,
         8,
         4,
         4,
         "2024-07-14"
        ],
        [
         20,
         130,
         5,
         1,
         2,
         "2024-07-30"
        ],
        [
         21,
         105,
         1,
         3,
         5,
         "2024-10-02"
        ],
        [
         22,
         107,
         9,
         3,
         4,
         "2024-11-16"
        ],
        [
         23,
         122,
         9,
         4,
         2,
         "2025-04-30"
        ],
        [
         24,
         125,
         1,
         5,
         1,
         "2024-07-14"
        ],
        [
         25,
         116,
         8,
         4,
         5,
         "2024-12-13"
        ],
        [
         26,
         126,
         6,
         2,
         2,
         "2024-09-21"
        ],
        [
         27,
         127,
         8,
         1,
         1,
         "2024-10-10"
        ],
        [
         28,
         101,
         7,
         5,
         3,
         "2024-11-15"
        ],
        [
         29,
         119,
         9,
         4,
         2,
         "2025-06-03"
        ],
        [
         30,
         116,
         8,
         4,
         5,
         "2025-03-16"
        ]
       ],
       "datasetInfos": [],
       "dbfsResultPath": null,
       "isJsonSchema": true,
       "metadata": {},
       "overflow": false,
       "plotOptions": {
        "customPlotOptions": {},
        "displayType": "table",
        "pivotAggregation": null,
        "pivotColumns": null,
        "xColumns": null,
        "yColumns": null
       },
       "removedWidgets": [],
       "schema": [
        {
         "metadata": "{}",
         "name": "transaction_id",
         "type": "\"integer\""
        },
        {
         "metadata": "{}",
         "name": "customer_id",
         "type": "\"integer\""
        },
        {
         "metadata": "{}",
         "name": "product_id",
         "type": "\"integer\""
        },
        {
         "metadata": "{}",
         "name": "store_id",
         "type": "\"integer\""
        },
        {
         "metadata": "{}",
         "name": "quantity",
         "type": "\"integer\""
        },
        {
         "metadata": "{}",
         "name": "transaction_date",
         "type": "\"date\""
        }
       ],
       "type": "table"
      }
     },
     "output_type": "display_data"
    }
   ],
   "source": [
    "df_transaction = spark.read.format(\"parquet\")\\\n",
    "                        .option(\"header\", \"true\")\\\n",
    "                        .option(\"inferSchema\", \"true\")\\\n",
    "                        .load(\"abfss://bronze@amazonprimeadls.dfs.core.windows.net/transaction\")\n",
    "display(df_transaction)"
   ]
  },
  {
   "cell_type": "markdown",
   "metadata": {
    "application/vnd.databricks.v1+cell": {
     "cellMetadata": {
      "byteLimit": 2048000,
      "rowLimit": 10000
     },
     "inputWidgets": {},
     "nuid": "90c99989-e63d-4249-b99f-bce3ef188eb8",
     "showTitle": false,
     "tableResultSettingsMap": {},
     "title": ""
    }
   },
   "source": [
    "### Reading Store file"
   ]
  },
  {
   "cell_type": "code",
   "execution_count": 0,
   "metadata": {
    "application/vnd.databricks.v1+cell": {
     "cellMetadata": {
      "byteLimit": 2048000,
      "rowLimit": 10000
     },
     "inputWidgets": {},
     "nuid": "ad0f307b-0307-4602-9ad0-c2afe88fd133",
     "showTitle": false,
     "tableResultSettingsMap": {},
     "title": ""
    }
   },
   "outputs": [
    {
     "output_type": "display_data",
     "data": {
      "text/html": [
       "<style scoped>\n",
       "  .table-result-container {\n",
       "    max-height: 300px;\n",
       "    overflow: auto;\n",
       "  }\n",
       "  table, th, td {\n",
       "    border: 1px solid black;\n",
       "    border-collapse: collapse;\n",
       "  }\n",
       "  th, td {\n",
       "    padding: 5px;\n",
       "  }\n",
       "  th {\n",
       "    text-align: left;\n",
       "  }\n",
       "</style><div class='table-result-container'><table class='table-result'><thead style='background-color: white'><tr><th>store_id</th><th>store_name</th><th>location</th></tr></thead><tbody><tr><td>1</td><td>City Mall Store</td><td>Mumbai</td></tr><tr><td>2</td><td>High Street Store</td><td>Delhi</td></tr><tr><td>3</td><td>Tech World Outlet</td><td>Bangalore</td></tr><tr><td>4</td><td>Downtown Mini Store</td><td>Pune</td></tr><tr><td>5</td><td>Mega Plaza</td><td>Chennai</td></tr></tbody></table></div>"
      ]
     },
     "metadata": {
      "application/vnd.databricks.v1+output": {
       "addedWidgets": {},
       "aggData": [],
       "aggError": "",
       "aggOverflow": false,
       "aggSchema": [],
       "aggSeriesLimitReached": false,
       "aggType": "",
       "arguments": {},
       "columnCustomDisplayInfos": {},
       "data": [
        [
         1,
         "City Mall Store",
         "Mumbai"
        ],
        [
         2,
         "High Street Store",
         "Delhi"
        ],
        [
         3,
         "Tech World Outlet",
         "Bangalore"
        ],
        [
         4,
         "Downtown Mini Store",
         "Pune"
        ],
        [
         5,
         "Mega Plaza",
         "Chennai"
        ]
       ],
       "datasetInfos": [],
       "dbfsResultPath": null,
       "isJsonSchema": true,
       "metadata": {},
       "overflow": false,
       "plotOptions": {
        "customPlotOptions": {},
        "displayType": "table",
        "pivotAggregation": null,
        "pivotColumns": null,
        "xColumns": null,
        "yColumns": null
       },
       "removedWidgets": [],
       "schema": [
        {
         "metadata": "{}",
         "name": "store_id",
         "type": "\"integer\""
        },
        {
         "metadata": "{}",
         "name": "store_name",
         "type": "\"string\""
        },
        {
         "metadata": "{}",
         "name": "location",
         "type": "\"string\""
        }
       ],
       "type": "table"
      }
     },
     "output_type": "display_data"
    }
   ],
   "source": [
    "df_store = spark.read.format(\"parquet\")\\\n",
    "                        .option(\"header\", \"true\")\\\n",
    "                        .option(\"inferSchema\", \"true\")\\\n",
    "                        .load(\"abfss://bronze@amazonprimeadls.dfs.core.windows.net/store\")\n",
    "display(df_store)"
   ]
  },
  {
   "cell_type": "markdown",
   "metadata": {
    "application/vnd.databricks.v1+cell": {
     "cellMetadata": {
      "byteLimit": 2048000,
      "rowLimit": 10000
     },
     "inputWidgets": {},
     "nuid": "99e5c40f-4433-4bb4-aaf8-4a2595556692",
     "showTitle": false,
     "tableResultSettingsMap": {},
     "title": ""
    }
   },
   "source": [
    "### Writing all the files to Bronze Layer"
   ]
  },
  {
   "cell_type": "code",
   "execution_count": 0,
   "metadata": {
    "application/vnd.databricks.v1+cell": {
     "cellMetadata": {
      "byteLimit": 2048000,
      "rowLimit": 10000
     },
     "inputWidgets": {},
     "nuid": "08184167-e9d9-4b6a-899e-482a5b262401",
     "showTitle": false,
     "tableResultSettingsMap": {},
     "title": ""
    }
   },
   "outputs": [],
   "source": [
    "def write_to_bronze_layer(df, table_name):\n",
    "            df.write.mode(\"overwrite\")\\\n",
    "                    .format(\"delta\")\\\n",
    "                    .option(\"overwriteSchema\", \"true\")\\\n",
    "                    .saveAsTable(f\"amazonretail.bronze.{table_name}\")"
   ]
  },
  {
   "cell_type": "code",
   "execution_count": 0,
   "metadata": {
    "application/vnd.databricks.v1+cell": {
     "cellMetadata": {
      "byteLimit": 2048000,
      "rowLimit": 10000
     },
     "inputWidgets": {},
     "nuid": "a2833cc9-ac16-4591-8d06-f490553685a0",
     "showTitle": false,
     "tableResultSettingsMap": {},
     "title": ""
    }
   },
   "outputs": [],
   "source": [
    "write_to_bronze_layer(df_product, \"bronze_product\")\n",
    "write_to_bronze_layer(df_customer, \"bronze_customer\")\n",
    "write_to_bronze_layer(df_transaction, \"bronze_transaction\")\n",
    "write_to_bronze_layer(df_store, \"bronze_store\")"
   ]
  }
 ],
 "metadata": {
  "application/vnd.databricks.v1+notebook": {
   "computePreferences": null,
   "dashboards": [],
   "environmentMetadata": {
    "base_environment": "",
    "environment_version": "4"
   },
   "inputWidgetPreferences": null,
   "language": "python",
   "notebookMetadata": {
    "mostRecentlyExecutedCommandWithImplicitDF": {
     "commandId": 5957647426170820,
     "dataframes": [
      "_sqldf"
     ]
    },
    "pythonIndentUnit": 4
   },
   "notebookName": "1. Data Ingestion into Bronze Layer",
   "widgets": {}
  },
  "language_info": {
   "name": "python"
  }
 },
 "nbformat": 4,
 "nbformat_minor": 0
}